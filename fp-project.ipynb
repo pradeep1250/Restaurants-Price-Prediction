{
 "cells": [
  {
   "cell_type": "markdown",
   "id": "ecc217de",
   "metadata": {},
   "source": [
    "# EDA on Zomato Data set & Predict the Zomato Restaurant Prices using Machine Learning"
   ]
  },
  {
   "cell_type": "markdown",
   "id": "47267ff7",
   "metadata": {},
   "source": [
    "<img src=\"https://149695847.v2.pressablecdn.com/wp-content/uploads/2023/09/zomato-1200x600-1.jpg\">"
   ]
  },
  {
   "cell_type": "markdown",
   "id": "0a79acd5",
   "metadata": {},
   "source": [
    "# Main Objective:\n",
    "\n",
    "- The main agenda of this project is:\n",
    "\n",
    "- Perform extensive Exploratory Data Analysis(EDA) on the Zomato Dataset.\n",
    "\n",
    "- Build an appropriate Machine Learning Model that will help various Zomato Restaurants to predict their respective Prices based on certain features"
   ]
  },
  {
   "cell_type": "markdown",
   "id": "b6b7b0be",
   "metadata": {},
   "source": [
    "# importing necessary libraries"
   ]
  },
  {
   "cell_type": "code",
   "execution_count": 1,
   "id": "b507833e",
   "metadata": {},
   "outputs": [],
   "source": [
    "import pandas as pd\n",
    "import numpy as np\n",
    "from scipy import stats\n",
    "import seaborn as sns\n",
    "import matplotlib.pyplot as plt\n",
    "\n",
    "\n",
    "from sklearn.linear_model import LinearRegression\n",
    "from sklearn.metrics import r2_score\n",
    "from sklearn.tree import DecisionTreeRegressor\n",
    "\n",
    "from sklearn.ensemble import  ExtraTreesRegressor\n",
    "from sklearn.preprocessing import LabelEncoder\n",
    "from sklearn.ensemble import RandomForestClassifier\n",
    "from sklearn.model_selection import train_test_split\n",
    "from sklearn.metrics import accuracy_score, classification_report\n",
    "from sklearn.metrics import confusion_matrix"
   ]
  },
  {
   "cell_type": "markdown",
   "id": "e0648dae",
   "metadata": {},
   "source": [
    "# reading the csv file"
   ]
  },
  {
   "cell_type": "code",
   "execution_count": 2,
   "id": "62b4bab3",
   "metadata": {},
   "outputs": [],
   "source": [
    "zmt = pd.read_csv('C:/Users/Pradeep/Desktop/zomato_dataset.csv')"
   ]
  },
  {
   "cell_type": "markdown",
   "id": "e6dedd0e",
   "metadata": {},
   "source": [
    "# printing top 5 columns"
   ]
  },
  {
   "cell_type": "code",
   "execution_count": 3,
   "id": "e8e01af0",
   "metadata": {
    "scrolled": true
   },
   "outputs": [
    {
     "data": {
      "text/html": [
       "<div>\n",
       "<style scoped>\n",
       "    .dataframe tbody tr th:only-of-type {\n",
       "        vertical-align: middle;\n",
       "    }\n",
       "\n",
       "    .dataframe tbody tr th {\n",
       "        vertical-align: top;\n",
       "    }\n",
       "\n",
       "    .dataframe thead th {\n",
       "        text-align: right;\n",
       "    }\n",
       "</style>\n",
       "<table border=\"1\" class=\"dataframe\">\n",
       "  <thead>\n",
       "    <tr style=\"text-align: right;\">\n",
       "      <th></th>\n",
       "      <th>Restaurant Name</th>\n",
       "      <th>Dining Rating</th>\n",
       "      <th>Delivery Rating</th>\n",
       "      <th>Dining Votes</th>\n",
       "      <th>Delivery Votes</th>\n",
       "      <th>Cuisine</th>\n",
       "      <th>Place Name</th>\n",
       "      <th>City</th>\n",
       "      <th>Item Name</th>\n",
       "      <th>Best Seller</th>\n",
       "      <th>Votes</th>\n",
       "      <th>Prices</th>\n",
       "    </tr>\n",
       "  </thead>\n",
       "  <tbody>\n",
       "    <tr>\n",
       "      <th>0</th>\n",
       "      <td>Doner King</td>\n",
       "      <td>3.9</td>\n",
       "      <td>4.2</td>\n",
       "      <td>39</td>\n",
       "      <td>0</td>\n",
       "      <td>Fast Food</td>\n",
       "      <td>Malakpet</td>\n",
       "      <td>Hyderabad</td>\n",
       "      <td>Platter Kebab Combo</td>\n",
       "      <td>BESTSELLER</td>\n",
       "      <td>84</td>\n",
       "      <td>249.0</td>\n",
       "    </tr>\n",
       "    <tr>\n",
       "      <th>1</th>\n",
       "      <td>Doner King</td>\n",
       "      <td>3.9</td>\n",
       "      <td>4.2</td>\n",
       "      <td>39</td>\n",
       "      <td>0</td>\n",
       "      <td>Fast Food</td>\n",
       "      <td>Malakpet</td>\n",
       "      <td>Hyderabad</td>\n",
       "      <td>Chicken Rumali Shawarma</td>\n",
       "      <td>BESTSELLER</td>\n",
       "      <td>45</td>\n",
       "      <td>129.0</td>\n",
       "    </tr>\n",
       "    <tr>\n",
       "      <th>2</th>\n",
       "      <td>Doner King</td>\n",
       "      <td>3.9</td>\n",
       "      <td>4.2</td>\n",
       "      <td>39</td>\n",
       "      <td>0</td>\n",
       "      <td>Fast Food</td>\n",
       "      <td>Malakpet</td>\n",
       "      <td>Hyderabad</td>\n",
       "      <td>Chicken Tandoori Salad</td>\n",
       "      <td>NaN</td>\n",
       "      <td>39</td>\n",
       "      <td>189.0</td>\n",
       "    </tr>\n",
       "    <tr>\n",
       "      <th>3</th>\n",
       "      <td>Doner King</td>\n",
       "      <td>3.9</td>\n",
       "      <td>4.2</td>\n",
       "      <td>39</td>\n",
       "      <td>0</td>\n",
       "      <td>Fast Food</td>\n",
       "      <td>Malakpet</td>\n",
       "      <td>Hyderabad</td>\n",
       "      <td>Chicken BBQ Salad</td>\n",
       "      <td>BESTSELLER</td>\n",
       "      <td>43</td>\n",
       "      <td>189.0</td>\n",
       "    </tr>\n",
       "    <tr>\n",
       "      <th>4</th>\n",
       "      <td>Doner King</td>\n",
       "      <td>3.9</td>\n",
       "      <td>4.2</td>\n",
       "      <td>39</td>\n",
       "      <td>0</td>\n",
       "      <td>Fast Food</td>\n",
       "      <td>Malakpet</td>\n",
       "      <td>Hyderabad</td>\n",
       "      <td>Special Doner Wrap Combo</td>\n",
       "      <td>MUST TRY</td>\n",
       "      <td>31</td>\n",
       "      <td>205.0</td>\n",
       "    </tr>\n",
       "  </tbody>\n",
       "</table>\n",
       "</div>"
      ],
      "text/plain": [
       "  Restaurant Name  Dining Rating  Delivery Rating  Dining Votes  \\\n",
       "0      Doner King            3.9              4.2            39   \n",
       "1      Doner King            3.9              4.2            39   \n",
       "2      Doner King            3.9              4.2            39   \n",
       "3      Doner King            3.9              4.2            39   \n",
       "4      Doner King            3.9              4.2            39   \n",
       "\n",
       "   Delivery Votes   Cuisine  Place Name        City                 Item Name  \\\n",
       "0               0  Fast Food   Malakpet   Hyderabad       Platter Kebab Combo   \n",
       "1               0  Fast Food   Malakpet   Hyderabad   Chicken Rumali Shawarma   \n",
       "2               0  Fast Food   Malakpet   Hyderabad    Chicken Tandoori Salad   \n",
       "3               0  Fast Food   Malakpet   Hyderabad         Chicken BBQ Salad   \n",
       "4               0  Fast Food   Malakpet   Hyderabad  Special Doner Wrap Combo   \n",
       "\n",
       "  Best Seller  Votes  Prices  \n",
       "0  BESTSELLER     84   249.0  \n",
       "1  BESTSELLER     45   129.0  \n",
       "2         NaN     39   189.0  \n",
       "3  BESTSELLER     43   189.0  \n",
       "4    MUST TRY     31   205.0  "
      ]
     },
     "execution_count": 3,
     "metadata": {},
     "output_type": "execute_result"
    }
   ],
   "source": [
    "zmt.head()"
   ]
  },
  {
   "cell_type": "markdown",
   "id": "9b59d180",
   "metadata": {},
   "source": [
    "# checking is there any null values"
   ]
  },
  {
   "cell_type": "code",
   "execution_count": 4,
   "id": "647e9faa",
   "metadata": {},
   "outputs": [
    {
     "data": {
      "text/plain": [
       "Restaurant Name        0\n",
       "Dining Rating      32236\n",
       "Delivery Rating     1280\n",
       "Dining Votes           0\n",
       "Delivery Votes         0\n",
       "Cuisine                0\n",
       "Place Name             0\n",
       "City                   0\n",
       "Item Name              0\n",
       "Best Seller        95715\n",
       "Votes                  0\n",
       "Prices                 0\n",
       "dtype: int64"
      ]
     },
     "execution_count": 4,
     "metadata": {},
     "output_type": "execute_result"
    }
   ],
   "source": [
    "zmt.isnull().sum()"
   ]
  },
  {
   "cell_type": "markdown",
   "id": "4aabfff0",
   "metadata": {},
   "source": [
    "# how many columns and rows in data set"
   ]
  },
  {
   "cell_type": "code",
   "execution_count": 5,
   "id": "4fe81b88",
   "metadata": {},
   "outputs": [
    {
     "data": {
      "text/plain": [
       "(123657, 12)"
      ]
     },
     "execution_count": 5,
     "metadata": {},
     "output_type": "execute_result"
    }
   ],
   "source": [
    "zmt.shape"
   ]
  },
  {
   "cell_type": "markdown",
   "id": "0ce988be",
   "metadata": {},
   "source": [
    "# information about the data"
   ]
  },
  {
   "cell_type": "code",
   "execution_count": 6,
   "id": "63c79635",
   "metadata": {},
   "outputs": [
    {
     "name": "stdout",
     "output_type": "stream",
     "text": [
      "<class 'pandas.core.frame.DataFrame'>\n",
      "RangeIndex: 123657 entries, 0 to 123656\n",
      "Data columns (total 12 columns):\n",
      " #   Column           Non-Null Count   Dtype  \n",
      "---  ------           --------------   -----  \n",
      " 0   Restaurant Name  123657 non-null  object \n",
      " 1   Dining Rating    91421 non-null   float64\n",
      " 2   Delivery Rating  122377 non-null  float64\n",
      " 3   Dining Votes     123657 non-null  int64  \n",
      " 4   Delivery Votes   123657 non-null  int64  \n",
      " 5   Cuisine          123657 non-null  object \n",
      " 6   Place Name       123657 non-null  object \n",
      " 7   City             123657 non-null  object \n",
      " 8   Item Name        123657 non-null  object \n",
      " 9   Best Seller      27942 non-null   object \n",
      " 10  Votes            123657 non-null  int64  \n",
      " 11  Prices           123657 non-null  float64\n",
      "dtypes: float64(3), int64(3), object(6)\n",
      "memory usage: 11.3+ MB\n"
     ]
    }
   ],
   "source": [
    "zmt.info()"
   ]
  },
  {
   "cell_type": "markdown",
   "id": "f8db5e84",
   "metadata": {},
   "source": [
    "# dropping duplicates"
   ]
  },
  {
   "cell_type": "code",
   "execution_count": 7,
   "id": "69ce2462",
   "metadata": {},
   "outputs": [
    {
     "name": "stdout",
     "output_type": "stream",
     "text": [
      "<class 'pandas.core.frame.DataFrame'>\n",
      "Int64Index: 101530 entries, 0 to 123635\n",
      "Data columns (total 12 columns):\n",
      " #   Column           Non-Null Count   Dtype  \n",
      "---  ------           --------------   -----  \n",
      " 0   Restaurant Name  101530 non-null  object \n",
      " 1   Dining Rating    74572 non-null   float64\n",
      " 2   Delivery Rating  100286 non-null  float64\n",
      " 3   Dining Votes     101530 non-null  int64  \n",
      " 4   Delivery Votes   101530 non-null  int64  \n",
      " 5   Cuisine          101530 non-null  object \n",
      " 6   Place Name       101530 non-null  object \n",
      " 7   City             101530 non-null  object \n",
      " 8   Item Name        101530 non-null  object \n",
      " 9   Best Seller      19143 non-null   object \n",
      " 10  Votes            101530 non-null  int64  \n",
      " 11  Prices           101530 non-null  float64\n",
      "dtypes: float64(3), int64(3), object(6)\n",
      "memory usage: 10.1+ MB\n"
     ]
    }
   ],
   "source": [
    "zmt=zmt.drop_duplicates()\n",
    "zmt.info()"
   ]
  },
  {
   "cell_type": "code",
   "execution_count": 8,
   "id": "33ead40d",
   "metadata": {},
   "outputs": [
    {
     "data": {
      "text/plain": [
       "Restaurant Name        0\n",
       "Dining Rating      26958\n",
       "Delivery Rating     1244\n",
       "Dining Votes           0\n",
       "Delivery Votes         0\n",
       "Cuisine                0\n",
       "Place Name             0\n",
       "City                   0\n",
       "Item Name              0\n",
       "Best Seller        82387\n",
       "Votes                  0\n",
       "Prices                 0\n",
       "dtype: int64"
      ]
     },
     "execution_count": 8,
     "metadata": {},
     "output_type": "execute_result"
    }
   ],
   "source": [
    "zmt.isnull().sum()"
   ]
  },
  {
   "cell_type": "markdown",
   "id": "fbdf6990",
   "metadata": {},
   "source": [
    "# dropping the column which has more null values"
   ]
  },
  {
   "cell_type": "code",
   "execution_count": 9,
   "id": "33cfad3a",
   "metadata": {},
   "outputs": [
    {
     "name": "stdout",
     "output_type": "stream",
     "text": [
      "<class 'pandas.core.frame.DataFrame'>\n",
      "Int64Index: 101530 entries, 0 to 123635\n",
      "Data columns (total 11 columns):\n",
      " #   Column           Non-Null Count   Dtype  \n",
      "---  ------           --------------   -----  \n",
      " 0   Restaurant Name  101530 non-null  object \n",
      " 1   Dining Rating    74572 non-null   float64\n",
      " 2   Delivery Rating  100286 non-null  float64\n",
      " 3   Dining Votes     101530 non-null  int64  \n",
      " 4   Delivery Votes   101530 non-null  int64  \n",
      " 5   Cuisine          101530 non-null  object \n",
      " 6   Place Name       101530 non-null  object \n",
      " 7   City             101530 non-null  object \n",
      " 8   Item Name        101530 non-null  object \n",
      " 9   Votes            101530 non-null  int64  \n",
      " 10  Prices           101530 non-null  float64\n",
      "dtypes: float64(3), int64(3), object(5)\n",
      "memory usage: 9.3+ MB\n"
     ]
    }
   ],
   "source": [
    "zmt=zmt.drop(columns=['Best Seller'])\n",
    "zmt.info()"
   ]
  },
  {
   "cell_type": "markdown",
   "id": "395f3918",
   "metadata": {},
   "source": [
    "# describe the data"
   ]
  },
  {
   "cell_type": "code",
   "execution_count": 10,
   "id": "f2a5515f",
   "metadata": {},
   "outputs": [
    {
     "data": {
      "text/html": [
       "<div>\n",
       "<style scoped>\n",
       "    .dataframe tbody tr th:only-of-type {\n",
       "        vertical-align: middle;\n",
       "    }\n",
       "\n",
       "    .dataframe tbody tr th {\n",
       "        vertical-align: top;\n",
       "    }\n",
       "\n",
       "    .dataframe thead th {\n",
       "        text-align: right;\n",
       "    }\n",
       "</style>\n",
       "<table border=\"1\" class=\"dataframe\">\n",
       "  <thead>\n",
       "    <tr style=\"text-align: right;\">\n",
       "      <th></th>\n",
       "      <th>Dining Rating</th>\n",
       "      <th>Delivery Rating</th>\n",
       "      <th>Dining Votes</th>\n",
       "      <th>Delivery Votes</th>\n",
       "      <th>Votes</th>\n",
       "      <th>Prices</th>\n",
       "    </tr>\n",
       "  </thead>\n",
       "  <tbody>\n",
       "    <tr>\n",
       "      <th>count</th>\n",
       "      <td>74572.000000</td>\n",
       "      <td>100286.000000</td>\n",
       "      <td>101530.000000</td>\n",
       "      <td>101530.000000</td>\n",
       "      <td>101530.000000</td>\n",
       "      <td>101530.000000</td>\n",
       "    </tr>\n",
       "    <tr>\n",
       "      <th>mean</th>\n",
       "      <td>3.821067</td>\n",
       "      <td>3.959520</td>\n",
       "      <td>151.559726</td>\n",
       "      <td>116.704009</td>\n",
       "      <td>19.110371</td>\n",
       "      <td>243.690758</td>\n",
       "    </tr>\n",
       "    <tr>\n",
       "      <th>std</th>\n",
       "      <td>0.408460</td>\n",
       "      <td>0.246504</td>\n",
       "      <td>230.662157</td>\n",
       "      <td>243.856446</td>\n",
       "      <td>108.264166</td>\n",
       "      <td>197.534461</td>\n",
       "    </tr>\n",
       "    <tr>\n",
       "      <th>min</th>\n",
       "      <td>2.500000</td>\n",
       "      <td>2.500000</td>\n",
       "      <td>0.000000</td>\n",
       "      <td>0.000000</td>\n",
       "      <td>0.000000</td>\n",
       "      <td>0.950000</td>\n",
       "    </tr>\n",
       "    <tr>\n",
       "      <th>25%</th>\n",
       "      <td>3.600000</td>\n",
       "      <td>3.800000</td>\n",
       "      <td>0.000000</td>\n",
       "      <td>0.000000</td>\n",
       "      <td>0.000000</td>\n",
       "      <td>130.000000</td>\n",
       "    </tr>\n",
       "    <tr>\n",
       "      <th>50%</th>\n",
       "      <td>3.900000</td>\n",
       "      <td>4.000000</td>\n",
       "      <td>30.000000</td>\n",
       "      <td>0.000000</td>\n",
       "      <td>0.000000</td>\n",
       "      <td>209.000000</td>\n",
       "    </tr>\n",
       "    <tr>\n",
       "      <th>75%</th>\n",
       "      <td>4.100000</td>\n",
       "      <td>4.100000</td>\n",
       "      <td>221.000000</td>\n",
       "      <td>37.000000</td>\n",
       "      <td>10.000000</td>\n",
       "      <td>299.000000</td>\n",
       "    </tr>\n",
       "    <tr>\n",
       "      <th>max</th>\n",
       "      <td>4.800000</td>\n",
       "      <td>4.600000</td>\n",
       "      <td>997.000000</td>\n",
       "      <td>983.000000</td>\n",
       "      <td>9750.000000</td>\n",
       "      <td>12024.000000</td>\n",
       "    </tr>\n",
       "  </tbody>\n",
       "</table>\n",
       "</div>"
      ],
      "text/plain": [
       "       Dining Rating  Delivery Rating   Dining Votes  Delivery Votes  \\\n",
       "count   74572.000000    100286.000000  101530.000000   101530.000000   \n",
       "mean        3.821067         3.959520     151.559726      116.704009   \n",
       "std         0.408460         0.246504     230.662157      243.856446   \n",
       "min         2.500000         2.500000       0.000000        0.000000   \n",
       "25%         3.600000         3.800000       0.000000        0.000000   \n",
       "50%         3.900000         4.000000      30.000000        0.000000   \n",
       "75%         4.100000         4.100000     221.000000       37.000000   \n",
       "max         4.800000         4.600000     997.000000      983.000000   \n",
       "\n",
       "               Votes         Prices  \n",
       "count  101530.000000  101530.000000  \n",
       "mean       19.110371     243.690758  \n",
       "std       108.264166     197.534461  \n",
       "min         0.000000       0.950000  \n",
       "25%         0.000000     130.000000  \n",
       "50%         0.000000     209.000000  \n",
       "75%        10.000000     299.000000  \n",
       "max      9750.000000   12024.000000  "
      ]
     },
     "execution_count": 10,
     "metadata": {},
     "output_type": "execute_result"
    }
   ],
   "source": [
    "zmt.describe()"
   ]
  },
  {
   "cell_type": "markdown",
   "id": "9fab80cf",
   "metadata": {},
   "source": [
    "# grouping the rows in the DataFrame based on the unique values in the 'City' column."
   ]
  },
  {
   "cell_type": "code",
   "execution_count": 11,
   "id": "b50f1fc4",
   "metadata": {},
   "outputs": [
    {
     "data": {
      "text/html": [
       "<div>\n",
       "<style scoped>\n",
       "    .dataframe tbody tr th:only-of-type {\n",
       "        vertical-align: middle;\n",
       "    }\n",
       "\n",
       "    .dataframe tbody tr th {\n",
       "        vertical-align: top;\n",
       "    }\n",
       "\n",
       "    .dataframe thead th {\n",
       "        text-align: right;\n",
       "    }\n",
       "</style>\n",
       "<table border=\"1\" class=\"dataframe\">\n",
       "  <thead>\n",
       "    <tr style=\"text-align: right;\">\n",
       "      <th></th>\n",
       "      <th>City</th>\n",
       "      <th>min</th>\n",
       "      <th>max</th>\n",
       "    </tr>\n",
       "  </thead>\n",
       "  <tbody>\n",
       "    <tr>\n",
       "      <th>0</th>\n",
       "      <td>Ahmedabad</td>\n",
       "      <td>2.00</td>\n",
       "      <td>2599.00</td>\n",
       "    </tr>\n",
       "    <tr>\n",
       "      <th>1</th>\n",
       "      <td>Banaswadi</td>\n",
       "      <td>47.65</td>\n",
       "      <td>1250.00</td>\n",
       "    </tr>\n",
       "    <tr>\n",
       "      <th>2</th>\n",
       "      <td>Bangalore</td>\n",
       "      <td>0.95</td>\n",
       "      <td>3999.00</td>\n",
       "    </tr>\n",
       "    <tr>\n",
       "      <th>3</th>\n",
       "      <td>Chennai</td>\n",
       "      <td>0.95</td>\n",
       "      <td>6500.00</td>\n",
       "    </tr>\n",
       "    <tr>\n",
       "      <th>4</th>\n",
       "      <td>Goa</td>\n",
       "      <td>8.00</td>\n",
       "      <td>2300.00</td>\n",
       "    </tr>\n",
       "    <tr>\n",
       "      <th>5</th>\n",
       "      <td>Hyderabad</td>\n",
       "      <td>0.95</td>\n",
       "      <td>3250.00</td>\n",
       "    </tr>\n",
       "    <tr>\n",
       "      <th>6</th>\n",
       "      <td>Jaipur</td>\n",
       "      <td>0.95</td>\n",
       "      <td>3000.00</td>\n",
       "    </tr>\n",
       "    <tr>\n",
       "      <th>7</th>\n",
       "      <td>Kochi</td>\n",
       "      <td>0.95</td>\n",
       "      <td>2749.00</td>\n",
       "    </tr>\n",
       "    <tr>\n",
       "      <th>8</th>\n",
       "      <td>Kolkata</td>\n",
       "      <td>0.95</td>\n",
       "      <td>12024.00</td>\n",
       "    </tr>\n",
       "    <tr>\n",
       "      <th>9</th>\n",
       "      <td>Lucknow</td>\n",
       "      <td>1.00</td>\n",
       "      <td>5593.22</td>\n",
       "    </tr>\n",
       "    <tr>\n",
       "      <th>10</th>\n",
       "      <td>Magrath Road</td>\n",
       "      <td>75.42</td>\n",
       "      <td>864.79</td>\n",
       "    </tr>\n",
       "    <tr>\n",
       "      <th>11</th>\n",
       "      <td>Malleshwaram</td>\n",
       "      <td>70.00</td>\n",
       "      <td>325.00</td>\n",
       "    </tr>\n",
       "    <tr>\n",
       "      <th>12</th>\n",
       "      <td>Mumbai</td>\n",
       "      <td>0.95</td>\n",
       "      <td>3800.00</td>\n",
       "    </tr>\n",
       "    <tr>\n",
       "      <th>13</th>\n",
       "      <td>New Delhi</td>\n",
       "      <td>2.00</td>\n",
       "      <td>2069.00</td>\n",
       "    </tr>\n",
       "    <tr>\n",
       "      <th>14</th>\n",
       "      <td>Pune</td>\n",
       "      <td>0.95</td>\n",
       "      <td>2560.00</td>\n",
       "    </tr>\n",
       "    <tr>\n",
       "      <th>15</th>\n",
       "      <td>Raipur</td>\n",
       "      <td>5.00</td>\n",
       "      <td>3999.00</td>\n",
       "    </tr>\n",
       "    <tr>\n",
       "      <th>16</th>\n",
       "      <td>Ulsoor</td>\n",
       "      <td>139.00</td>\n",
       "      <td>1999.00</td>\n",
       "    </tr>\n",
       "  </tbody>\n",
       "</table>\n",
       "</div>"
      ],
      "text/plain": [
       "             City     min       max\n",
       "0       Ahmedabad    2.00   2599.00\n",
       "1       Banaswadi   47.65   1250.00\n",
       "2       Bangalore    0.95   3999.00\n",
       "3         Chennai    0.95   6500.00\n",
       "4             Goa    8.00   2300.00\n",
       "5       Hyderabad    0.95   3250.00\n",
       "6          Jaipur    0.95   3000.00\n",
       "7           Kochi    0.95   2749.00\n",
       "8         Kolkata    0.95  12024.00\n",
       "9         Lucknow    1.00   5593.22\n",
       "10   Magrath Road   75.42    864.79\n",
       "11   Malleshwaram   70.00    325.00\n",
       "12         Mumbai    0.95   3800.00\n",
       "13      New Delhi    2.00   2069.00\n",
       "14           Pune    0.95   2560.00\n",
       "15         Raipur    5.00   3999.00\n",
       "16         Ulsoor  139.00   1999.00"
      ]
     },
     "execution_count": 11,
     "metadata": {},
     "output_type": "execute_result"
    }
   ],
   "source": [
    "city_prices = zmt.groupby('City')['Prices'].agg(['min', 'max']).reset_index()\n",
    "city_prices\n"
   ]
  },
  {
   "cell_type": "markdown",
   "id": "9e20bda2",
   "metadata": {},
   "source": [
    "# calculates the mean (average) of the 'Prices' column for each restaurant"
   ]
  },
  {
   "cell_type": "code",
   "execution_count": 12,
   "id": "012e8c67",
   "metadata": {},
   "outputs": [
    {
     "data": {
      "text/html": [
       "<div>\n",
       "<style scoped>\n",
       "    .dataframe tbody tr th:only-of-type {\n",
       "        vertical-align: middle;\n",
       "    }\n",
       "\n",
       "    .dataframe tbody tr th {\n",
       "        vertical-align: top;\n",
       "    }\n",
       "\n",
       "    .dataframe thead th {\n",
       "        text-align: right;\n",
       "    }\n",
       "</style>\n",
       "<table border=\"1\" class=\"dataframe\">\n",
       "  <thead>\n",
       "    <tr style=\"text-align: right;\">\n",
       "      <th></th>\n",
       "      <th>Restaurant Name</th>\n",
       "      <th>Prices</th>\n",
       "    </tr>\n",
       "  </thead>\n",
       "  <tbody>\n",
       "    <tr>\n",
       "      <th>0</th>\n",
       "      <td>12 To 12 BBQ</td>\n",
       "      <td>276.897810</td>\n",
       "    </tr>\n",
       "    <tr>\n",
       "      <th>1</th>\n",
       "      <td>1441 Pizzeria</td>\n",
       "      <td>346.029333</td>\n",
       "    </tr>\n",
       "    <tr>\n",
       "      <th>2</th>\n",
       "      <td>1944 -The HOCCO Kitchen</td>\n",
       "      <td>345.020833</td>\n",
       "    </tr>\n",
       "    <tr>\n",
       "      <th>3</th>\n",
       "      <td>4M Biryani House</td>\n",
       "      <td>203.765306</td>\n",
       "    </tr>\n",
       "    <tr>\n",
       "      <th>4</th>\n",
       "      <td>7 Plates</td>\n",
       "      <td>241.960000</td>\n",
       "    </tr>\n",
       "    <tr>\n",
       "      <th>...</th>\n",
       "      <td>...</td>\n",
       "      <td>...</td>\n",
       "    </tr>\n",
       "    <tr>\n",
       "      <th>821</th>\n",
       "      <td>Zaffran Mataam Alarabi</td>\n",
       "      <td>886.111111</td>\n",
       "    </tr>\n",
       "    <tr>\n",
       "      <th>822</th>\n",
       "      <td>Zam Zam Briyani</td>\n",
       "      <td>241.446809</td>\n",
       "    </tr>\n",
       "    <tr>\n",
       "      <th>823</th>\n",
       "      <td>Zam Zam Restaurant</td>\n",
       "      <td>178.134146</td>\n",
       "    </tr>\n",
       "    <tr>\n",
       "      <th>824</th>\n",
       "      <td>Zeeshan Biryani Corner</td>\n",
       "      <td>167.794118</td>\n",
       "    </tr>\n",
       "    <tr>\n",
       "      <th>825</th>\n",
       "      <td>Zomoz - The Momo Company</td>\n",
       "      <td>161.790267</td>\n",
       "    </tr>\n",
       "  </tbody>\n",
       "</table>\n",
       "<p>826 rows × 2 columns</p>\n",
       "</div>"
      ],
      "text/plain": [
       "              Restaurant Name      Prices\n",
       "0                12 To 12 BBQ  276.897810\n",
       "1               1441 Pizzeria  346.029333\n",
       "2     1944 -The HOCCO Kitchen  345.020833\n",
       "3            4M Biryani House  203.765306\n",
       "4                    7 Plates  241.960000\n",
       "..                        ...         ...\n",
       "821    Zaffran Mataam Alarabi  886.111111\n",
       "822           Zam Zam Briyani  241.446809\n",
       "823        Zam Zam Restaurant  178.134146\n",
       "824    Zeeshan Biryani Corner  167.794118\n",
       "825  Zomoz - The Momo Company  161.790267\n",
       "\n",
       "[826 rows x 2 columns]"
      ]
     },
     "execution_count": 12,
     "metadata": {},
     "output_type": "execute_result"
    }
   ],
   "source": [
    "average_prices = zmt.groupby('Restaurant Name')['Prices'].mean().reset_index()\n",
    "average_prices"
   ]
  },
  {
   "cell_type": "markdown",
   "id": "94d75a13",
   "metadata": {},
   "source": [
    "# data visualization"
   ]
  },
  {
   "cell_type": "code",
   "execution_count": 13,
   "id": "19484168",
   "metadata": {},
   "outputs": [
    {
     "data": {
      "image/png": "[encoded data removed]",
      "text/plain": [
       "<Figure size 1200x600 with 1 Axes>"
      ]
     },
     "metadata": {},
     "output_type": "display_data"
    },
    {
     "data": {
      "image/png": "[encoded data removed]",
      "text/plain": [
       "<Figure size 1200x600 with 1 Axes>"
      ]
     },
     "metadata": {},
     "output_type": "display_data"
    }
   ],
   "source": [
    "plt.figure(figsize=(12, 6))\n",
    "plt.bar(city_prices['City'], city_prices['min'], label='Minimum Price', color='blue', alpha=0.6)\n",
    "plt.xlabel('City')\n",
    "plt.ylabel('Price')\n",
    "plt.title('Minimum Prices by City')\n",
    "plt.xticks(rotation=45)\n",
    "plt.legend()\n",
    "plt.tight_layout()\n",
    "plt.show()\n",
    "\n",
    "plt.figure(figsize=(12, 6))\n",
    "plt.bar(city_prices['City'], city_prices['max'], label='Maximum Price', color='red', alpha=0.6)\n",
    "plt.xlabel('City')\n",
    "plt.ylabel('Price')\n",
    "plt.title('Maximum Prices by City')\n",
    "plt.xticks(rotation=45)\n",
    "plt.legend()\n",
    "plt.tight_layout()\n",
    "plt.show()\n"
   ]
  },
  {
   "cell_type": "code",
   "execution_count": 14,
   "id": "f5fbb6ff",
   "metadata": {},
   "outputs": [
    {
     "data": {
      "image/png": "[encoded data removed]",
      "text/plain": [
       "<Figure size 1000x600 with 1 Axes>"
      ]
     },
     "metadata": {},
     "output_type": "display_data"
    }
   ],
   "source": [
    "# Load your dataset into a pandas DataFrame\n",
    "data = zmt.copy()\n",
    "\n",
    "# Group the data by city and calculate the average price in each city\n",
    "city_avg_price = data.groupby('City')['Prices'].mean().reset_index()\n",
    "\n",
    "# Sort the data by average price in descending order\n",
    "city_avg_price = city_avg_price.sort_values(by='Prices', ascending=False)\n",
    "\n",
    "# Create a horizontal bar chart\n",
    "plt.figure(figsize=(10, 6))\n",
    "plt.barh(city_avg_price['City'], city_avg_price['Prices'], color='skyblue')\n",
    "plt.xlabel('Average Price')\n",
    "plt.ylabel('City')\n",
    "plt.title('Average Prices by City')\n",
    "plt.gca().invert_yaxis()  # Invert the y-axis to display the city with the highest average price at the top\n",
    "plt.tight_layout()\n",
    "plt.show()"
   ]
  },
  {
   "cell_type": "code",
   "execution_count": 15,
   "id": "2011a66a",
   "metadata": {},
   "outputs": [
    {
     "data": {
      "image/png": "[encoded data removed]",
      "text/plain": [
       "<Figure size 1200x800 with 1 Axes>"
      ]
     },
     "metadata": {},
     "output_type": "display_data"
    }
   ],
   "source": [
    "# Load your dataset into a pandas DataFrame\n",
    "data = zmt.copy()\n",
    "\n",
    "# Group the data by city and calculate the count of restaurants and average price in each city\n",
    "city_stats = data.groupby('City').agg({'Restaurant Name': 'count', 'Prices': 'mean'}).reset_index()\n",
    "city_stats.columns = ['City', 'Restaurant Count', 'Average Price']\n",
    "\n",
    "# Sort the data by restaurant count in descending order\n",
    "city_stats = city_stats.sort_values(by='Restaurant Count', ascending=False)\n",
    "\n",
    "# Create a grouped bar chart\n",
    "fig, ax = plt.subplots(figsize=(12, 8))\n",
    "bar_width = 0.35\n",
    "index = np.arange(len(city_stats))\n",
    "\n",
    "# Bars for restaurant count\n",
    "plt.bar(index, city_stats['Restaurant Count'], bar_width, label='Restaurant Count', color='lightgreen')\n",
    "\n",
    "# Bars for average price\n",
    "plt.bar(index + bar_width, city_stats['Average Price'], bar_width, label='Average Price', color='skyblue')\n",
    "\n",
    "plt.xlabel('City')\n",
    "plt.ylabel('Count / Price')\n",
    "plt.title('Number of Restaurants and Average Prices by City')\n",
    "plt.xticks(index + bar_width / 2, city_stats['City'], rotation=45)\n",
    "plt.legend()\n",
    "plt.tight_layout()\n",
    "plt.show()\n",
    "\n"
   ]
  },
  {
   "cell_type": "markdown",
   "id": "12ee4e2c",
   "metadata": {},
   "source": [
    "# merging the 'zmt' DataFrame with the 'average_prices' DataFrame on the 'Restaurant Name' "
   ]
  },
  {
   "cell_type": "code",
   "execution_count": 16,
   "id": "ac85a661",
   "metadata": {},
   "outputs": [
    {
     "data": {
      "text/html": [
       "<div>\n",
       "<style scoped>\n",
       "    .dataframe tbody tr th:only-of-type {\n",
       "        vertical-align: middle;\n",
       "    }\n",
       "\n",
       "    .dataframe tbody tr th {\n",
       "        vertical-align: top;\n",
       "    }\n",
       "\n",
       "    .dataframe thead th {\n",
       "        text-align: right;\n",
       "    }\n",
       "</style>\n",
       "<table border=\"1\" class=\"dataframe\">\n",
       "  <thead>\n",
       "    <tr style=\"text-align: right;\">\n",
       "      <th></th>\n",
       "      <th>Restaurant Name</th>\n",
       "      <th>Dining Rating</th>\n",
       "      <th>Delivery Rating</th>\n",
       "      <th>Dining Votes</th>\n",
       "      <th>Delivery Votes</th>\n",
       "      <th>Cuisine</th>\n",
       "      <th>Place Name</th>\n",
       "      <th>City</th>\n",
       "      <th>Item Name</th>\n",
       "      <th>Votes</th>\n",
       "      <th>Prices_x</th>\n",
       "      <th>Prices_y</th>\n",
       "    </tr>\n",
       "  </thead>\n",
       "  <tbody>\n",
       "    <tr>\n",
       "      <th>0</th>\n",
       "      <td>Doner King</td>\n",
       "      <td>3.9</td>\n",
       "      <td>4.2</td>\n",
       "      <td>39</td>\n",
       "      <td>0</td>\n",
       "      <td>Fast Food</td>\n",
       "      <td>Malakpet</td>\n",
       "      <td>Hyderabad</td>\n",
       "      <td>Platter Kebab Combo</td>\n",
       "      <td>84</td>\n",
       "      <td>249.0</td>\n",
       "      <td>165.114286</td>\n",
       "    </tr>\n",
       "    <tr>\n",
       "      <th>1</th>\n",
       "      <td>Doner King</td>\n",
       "      <td>3.9</td>\n",
       "      <td>4.2</td>\n",
       "      <td>39</td>\n",
       "      <td>0</td>\n",
       "      <td>Fast Food</td>\n",
       "      <td>Malakpet</td>\n",
       "      <td>Hyderabad</td>\n",
       "      <td>Chicken Rumali Shawarma</td>\n",
       "      <td>45</td>\n",
       "      <td>129.0</td>\n",
       "      <td>165.114286</td>\n",
       "    </tr>\n",
       "    <tr>\n",
       "      <th>2</th>\n",
       "      <td>Doner King</td>\n",
       "      <td>3.9</td>\n",
       "      <td>4.2</td>\n",
       "      <td>39</td>\n",
       "      <td>0</td>\n",
       "      <td>Fast Food</td>\n",
       "      <td>Malakpet</td>\n",
       "      <td>Hyderabad</td>\n",
       "      <td>Chicken Tandoori Salad</td>\n",
       "      <td>39</td>\n",
       "      <td>189.0</td>\n",
       "      <td>165.114286</td>\n",
       "    </tr>\n",
       "    <tr>\n",
       "      <th>3</th>\n",
       "      <td>Doner King</td>\n",
       "      <td>3.9</td>\n",
       "      <td>4.2</td>\n",
       "      <td>39</td>\n",
       "      <td>0</td>\n",
       "      <td>Fast Food</td>\n",
       "      <td>Malakpet</td>\n",
       "      <td>Hyderabad</td>\n",
       "      <td>Chicken BBQ Salad</td>\n",
       "      <td>43</td>\n",
       "      <td>189.0</td>\n",
       "      <td>165.114286</td>\n",
       "    </tr>\n",
       "    <tr>\n",
       "      <th>4</th>\n",
       "      <td>Doner King</td>\n",
       "      <td>3.9</td>\n",
       "      <td>4.2</td>\n",
       "      <td>39</td>\n",
       "      <td>0</td>\n",
       "      <td>Fast Food</td>\n",
       "      <td>Malakpet</td>\n",
       "      <td>Hyderabad</td>\n",
       "      <td>Special Doner Wrap Combo</td>\n",
       "      <td>31</td>\n",
       "      <td>205.0</td>\n",
       "      <td>165.114286</td>\n",
       "    </tr>\n",
       "    <tr>\n",
       "      <th>...</th>\n",
       "      <td>...</td>\n",
       "      <td>...</td>\n",
       "      <td>...</td>\n",
       "      <td>...</td>\n",
       "      <td>...</td>\n",
       "      <td>...</td>\n",
       "      <td>...</td>\n",
       "      <td>...</td>\n",
       "      <td>...</td>\n",
       "      <td>...</td>\n",
       "      <td>...</td>\n",
       "      <td>...</td>\n",
       "    </tr>\n",
       "    <tr>\n",
       "      <th>101525</th>\n",
       "      <td>Ariena Boutique Hotel</td>\n",
       "      <td>3.9</td>\n",
       "      <td>4.2</td>\n",
       "      <td>13</td>\n",
       "      <td>523</td>\n",
       "      <td>Pizza</td>\n",
       "      <td>Purena</td>\n",
       "      <td>Raipur</td>\n",
       "      <td>Fruit Raita</td>\n",
       "      <td>0</td>\n",
       "      <td>125.0</td>\n",
       "      <td>353.155738</td>\n",
       "    </tr>\n",
       "    <tr>\n",
       "      <th>101526</th>\n",
       "      <td>Ariena Boutique Hotel</td>\n",
       "      <td>3.9</td>\n",
       "      <td>4.2</td>\n",
       "      <td>13</td>\n",
       "      <td>523</td>\n",
       "      <td>Pizza</td>\n",
       "      <td>Purena</td>\n",
       "      <td>Raipur</td>\n",
       "      <td>Boondi Raita</td>\n",
       "      <td>0</td>\n",
       "      <td>125.0</td>\n",
       "      <td>353.155738</td>\n",
       "    </tr>\n",
       "    <tr>\n",
       "      <th>101527</th>\n",
       "      <td>Ariena Boutique Hotel</td>\n",
       "      <td>3.9</td>\n",
       "      <td>4.2</td>\n",
       "      <td>13</td>\n",
       "      <td>523</td>\n",
       "      <td>Pizza</td>\n",
       "      <td>Purena</td>\n",
       "      <td>Raipur</td>\n",
       "      <td>Mint Raita</td>\n",
       "      <td>0</td>\n",
       "      <td>125.0</td>\n",
       "      <td>353.155738</td>\n",
       "    </tr>\n",
       "    <tr>\n",
       "      <th>101528</th>\n",
       "      <td>Ariena Boutique Hotel</td>\n",
       "      <td>3.9</td>\n",
       "      <td>4.2</td>\n",
       "      <td>13</td>\n",
       "      <td>523</td>\n",
       "      <td>Pizza</td>\n",
       "      <td>Purena</td>\n",
       "      <td>Raipur</td>\n",
       "      <td>Mint Chutney</td>\n",
       "      <td>0</td>\n",
       "      <td>50.0</td>\n",
       "      <td>353.155738</td>\n",
       "    </tr>\n",
       "    <tr>\n",
       "      <th>101529</th>\n",
       "      <td>Ariena Boutique Hotel</td>\n",
       "      <td>3.9</td>\n",
       "      <td>4.2</td>\n",
       "      <td>13</td>\n",
       "      <td>523</td>\n",
       "      <td>Pizza</td>\n",
       "      <td>Purena</td>\n",
       "      <td>Raipur</td>\n",
       "      <td>Moong Dal Halwa</td>\n",
       "      <td>21</td>\n",
       "      <td>195.0</td>\n",
       "      <td>353.155738</td>\n",
       "    </tr>\n",
       "  </tbody>\n",
       "</table>\n",
       "<p>101530 rows × 12 columns</p>\n",
       "</div>"
      ],
      "text/plain": [
       "              Restaurant Name  Dining Rating  Delivery Rating  Dining Votes  \\\n",
       "0                  Doner King            3.9              4.2            39   \n",
       "1                  Doner King            3.9              4.2            39   \n",
       "2                  Doner King            3.9              4.2            39   \n",
       "3                  Doner King            3.9              4.2            39   \n",
       "4                  Doner King            3.9              4.2            39   \n",
       "...                       ...            ...              ...           ...   \n",
       "101525  Ariena Boutique Hotel            3.9              4.2            13   \n",
       "101526  Ariena Boutique Hotel            3.9              4.2            13   \n",
       "101527  Ariena Boutique Hotel            3.9              4.2            13   \n",
       "101528  Ariena Boutique Hotel            3.9              4.2            13   \n",
       "101529  Ariena Boutique Hotel            3.9              4.2            13   \n",
       "\n",
       "        Delivery Votes   Cuisine  Place Name        City  \\\n",
       "0                    0  Fast Food   Malakpet   Hyderabad   \n",
       "1                    0  Fast Food   Malakpet   Hyderabad   \n",
       "2                    0  Fast Food   Malakpet   Hyderabad   \n",
       "3                    0  Fast Food   Malakpet   Hyderabad   \n",
       "4                    0  Fast Food   Malakpet   Hyderabad   \n",
       "...                ...        ...        ...         ...   \n",
       "101525             523      Pizza     Purena      Raipur   \n",
       "101526             523      Pizza     Purena      Raipur   \n",
       "101527             523      Pizza     Purena      Raipur   \n",
       "101528             523      Pizza     Purena      Raipur   \n",
       "101529             523      Pizza     Purena      Raipur   \n",
       "\n",
       "                       Item Name  Votes  Prices_x    Prices_y  \n",
       "0            Platter Kebab Combo     84     249.0  165.114286  \n",
       "1        Chicken Rumali Shawarma     45     129.0  165.114286  \n",
       "2         Chicken Tandoori Salad     39     189.0  165.114286  \n",
       "3              Chicken BBQ Salad     43     189.0  165.114286  \n",
       "4       Special Doner Wrap Combo     31     205.0  165.114286  \n",
       "...                          ...    ...       ...         ...  \n",
       "101525               Fruit Raita      0     125.0  353.155738  \n",
       "101526              Boondi Raita      0     125.0  353.155738  \n",
       "101527                Mint Raita      0     125.0  353.155738  \n",
       "101528              Mint Chutney      0      50.0  353.155738  \n",
       "101529           Moong Dal Halwa     21     195.0  353.155738  \n",
       "\n",
       "[101530 rows x 12 columns]"
      ]
     },
     "execution_count": 16,
     "metadata": {},
     "output_type": "execute_result"
    }
   ],
   "source": [
    "zmt = pd.merge(zmt, average_prices, on='Restaurant Name', how='left')\n",
    "zmt"
   ]
  },
  {
   "cell_type": "markdown",
   "id": "595dd5d8",
   "metadata": {},
   "source": [
    "# information of data"
   ]
  },
  {
   "cell_type": "code",
   "execution_count": 17,
   "id": "92b850ca",
   "metadata": {},
   "outputs": [
    {
     "name": "stdout",
     "output_type": "stream",
     "text": [
      "<class 'pandas.core.frame.DataFrame'>\n",
      "Int64Index: 101530 entries, 0 to 101529\n",
      "Data columns (total 12 columns):\n",
      " #   Column           Non-Null Count   Dtype  \n",
      "---  ------           --------------   -----  \n",
      " 0   Restaurant Name  101530 non-null  object \n",
      " 1   Dining Rating    74572 non-null   float64\n",
      " 2   Delivery Rating  100286 non-null  float64\n",
      " 3   Dining Votes     101530 non-null  int64  \n",
      " 4   Delivery Votes   101530 non-null  int64  \n",
      " 5   Cuisine          101530 non-null  object \n",
      " 6   Place Name       101530 non-null  object \n",
      " 7   City             101530 non-null  object \n",
      " 8   Item Name        101530 non-null  object \n",
      " 9   Votes            101530 non-null  int64  \n",
      " 10  Prices_x         101530 non-null  float64\n",
      " 11  Prices_y         101530 non-null  float64\n",
      "dtypes: float64(4), int64(3), object(5)\n",
      "memory usage: 10.1+ MB\n"
     ]
    }
   ],
   "source": [
    "zmt.info()"
   ]
  },
  {
   "cell_type": "markdown",
   "id": "353a6f51",
   "metadata": {},
   "source": [
    "# renaming the columns"
   ]
  },
  {
   "cell_type": "code",
   "execution_count": 18,
   "id": "7ace5506",
   "metadata": {},
   "outputs": [
    {
     "data": {
      "text/html": [
       "<div>\n",
       "<style scoped>\n",
       "    .dataframe tbody tr th:only-of-type {\n",
       "        vertical-align: middle;\n",
       "    }\n",
       "\n",
       "    .dataframe tbody tr th {\n",
       "        vertical-align: top;\n",
       "    }\n",
       "\n",
       "    .dataframe thead th {\n",
       "        text-align: right;\n",
       "    }\n",
       "</style>\n",
       "<table border=\"1\" class=\"dataframe\">\n",
       "  <thead>\n",
       "    <tr style=\"text-align: right;\">\n",
       "      <th></th>\n",
       "      <th>Restaurant Name</th>\n",
       "      <th>Dining Rating</th>\n",
       "      <th>Delivery Rating</th>\n",
       "      <th>Dining Votes</th>\n",
       "      <th>Delivery Votes</th>\n",
       "      <th>Cuisine</th>\n",
       "      <th>Place Name</th>\n",
       "      <th>City</th>\n",
       "      <th>Item Name</th>\n",
       "      <th>Votes</th>\n",
       "      <th>Original Price</th>\n",
       "      <th>Average Price</th>\n",
       "    </tr>\n",
       "  </thead>\n",
       "  <tbody>\n",
       "    <tr>\n",
       "      <th>0</th>\n",
       "      <td>Doner King</td>\n",
       "      <td>3.9</td>\n",
       "      <td>4.2</td>\n",
       "      <td>39</td>\n",
       "      <td>0</td>\n",
       "      <td>Fast Food</td>\n",
       "      <td>Malakpet</td>\n",
       "      <td>Hyderabad</td>\n",
       "      <td>Platter Kebab Combo</td>\n",
       "      <td>84</td>\n",
       "      <td>249.0</td>\n",
       "      <td>165.114286</td>\n",
       "    </tr>\n",
       "    <tr>\n",
       "      <th>1</th>\n",
       "      <td>Doner King</td>\n",
       "      <td>3.9</td>\n",
       "      <td>4.2</td>\n",
       "      <td>39</td>\n",
       "      <td>0</td>\n",
       "      <td>Fast Food</td>\n",
       "      <td>Malakpet</td>\n",
       "      <td>Hyderabad</td>\n",
       "      <td>Chicken Rumali Shawarma</td>\n",
       "      <td>45</td>\n",
       "      <td>129.0</td>\n",
       "      <td>165.114286</td>\n",
       "    </tr>\n",
       "    <tr>\n",
       "      <th>2</th>\n",
       "      <td>Doner King</td>\n",
       "      <td>3.9</td>\n",
       "      <td>4.2</td>\n",
       "      <td>39</td>\n",
       "      <td>0</td>\n",
       "      <td>Fast Food</td>\n",
       "      <td>Malakpet</td>\n",
       "      <td>Hyderabad</td>\n",
       "      <td>Chicken Tandoori Salad</td>\n",
       "      <td>39</td>\n",
       "      <td>189.0</td>\n",
       "      <td>165.114286</td>\n",
       "    </tr>\n",
       "    <tr>\n",
       "      <th>3</th>\n",
       "      <td>Doner King</td>\n",
       "      <td>3.9</td>\n",
       "      <td>4.2</td>\n",
       "      <td>39</td>\n",
       "      <td>0</td>\n",
       "      <td>Fast Food</td>\n",
       "      <td>Malakpet</td>\n",
       "      <td>Hyderabad</td>\n",
       "      <td>Chicken BBQ Salad</td>\n",
       "      <td>43</td>\n",
       "      <td>189.0</td>\n",
       "      <td>165.114286</td>\n",
       "    </tr>\n",
       "    <tr>\n",
       "      <th>4</th>\n",
       "      <td>Doner King</td>\n",
       "      <td>3.9</td>\n",
       "      <td>4.2</td>\n",
       "      <td>39</td>\n",
       "      <td>0</td>\n",
       "      <td>Fast Food</td>\n",
       "      <td>Malakpet</td>\n",
       "      <td>Hyderabad</td>\n",
       "      <td>Special Doner Wrap Combo</td>\n",
       "      <td>31</td>\n",
       "      <td>205.0</td>\n",
       "      <td>165.114286</td>\n",
       "    </tr>\n",
       "    <tr>\n",
       "      <th>...</th>\n",
       "      <td>...</td>\n",
       "      <td>...</td>\n",
       "      <td>...</td>\n",
       "      <td>...</td>\n",
       "      <td>...</td>\n",
       "      <td>...</td>\n",
       "      <td>...</td>\n",
       "      <td>...</td>\n",
       "      <td>...</td>\n",
       "      <td>...</td>\n",
       "      <td>...</td>\n",
       "      <td>...</td>\n",
       "    </tr>\n",
       "    <tr>\n",
       "      <th>101525</th>\n",
       "      <td>Ariena Boutique Hotel</td>\n",
       "      <td>3.9</td>\n",
       "      <td>4.2</td>\n",
       "      <td>13</td>\n",
       "      <td>523</td>\n",
       "      <td>Pizza</td>\n",
       "      <td>Purena</td>\n",
       "      <td>Raipur</td>\n",
       "      <td>Fruit Raita</td>\n",
       "      <td>0</td>\n",
       "      <td>125.0</td>\n",
       "      <td>353.155738</td>\n",
       "    </tr>\n",
       "    <tr>\n",
       "      <th>101526</th>\n",
       "      <td>Ariena Boutique Hotel</td>\n",
       "      <td>3.9</td>\n",
       "      <td>4.2</td>\n",
       "      <td>13</td>\n",
       "      <td>523</td>\n",
       "      <td>Pizza</td>\n",
       "      <td>Purena</td>\n",
       "      <td>Raipur</td>\n",
       "      <td>Boondi Raita</td>\n",
       "      <td>0</td>\n",
       "      <td>125.0</td>\n",
       "      <td>353.155738</td>\n",
       "    </tr>\n",
       "    <tr>\n",
       "      <th>101527</th>\n",
       "      <td>Ariena Boutique Hotel</td>\n",
       "      <td>3.9</td>\n",
       "      <td>4.2</td>\n",
       "      <td>13</td>\n",
       "      <td>523</td>\n",
       "      <td>Pizza</td>\n",
       "      <td>Purena</td>\n",
       "      <td>Raipur</td>\n",
       "      <td>Mint Raita</td>\n",
       "      <td>0</td>\n",
       "      <td>125.0</td>\n",
       "      <td>353.155738</td>\n",
       "    </tr>\n",
       "    <tr>\n",
       "      <th>101528</th>\n",
       "      <td>Ariena Boutique Hotel</td>\n",
       "      <td>3.9</td>\n",
       "      <td>4.2</td>\n",
       "      <td>13</td>\n",
       "      <td>523</td>\n",
       "      <td>Pizza</td>\n",
       "      <td>Purena</td>\n",
       "      <td>Raipur</td>\n",
       "      <td>Mint Chutney</td>\n",
       "      <td>0</td>\n",
       "      <td>50.0</td>\n",
       "      <td>353.155738</td>\n",
       "    </tr>\n",
       "    <tr>\n",
       "      <th>101529</th>\n",
       "      <td>Ariena Boutique Hotel</td>\n",
       "      <td>3.9</td>\n",
       "      <td>4.2</td>\n",
       "      <td>13</td>\n",
       "      <td>523</td>\n",
       "      <td>Pizza</td>\n",
       "      <td>Purena</td>\n",
       "      <td>Raipur</td>\n",
       "      <td>Moong Dal Halwa</td>\n",
       "      <td>21</td>\n",
       "      <td>195.0</td>\n",
       "      <td>353.155738</td>\n",
       "    </tr>\n",
       "  </tbody>\n",
       "</table>\n",
       "<p>101530 rows × 12 columns</p>\n",
       "</div>"
      ],
      "text/plain": [
       "              Restaurant Name  Dining Rating  Delivery Rating  Dining Votes  \\\n",
       "0                  Doner King            3.9              4.2            39   \n",
       "1                  Doner King            3.9              4.2            39   \n",
       "2                  Doner King            3.9              4.2            39   \n",
       "3                  Doner King            3.9              4.2            39   \n",
       "4                  Doner King            3.9              4.2            39   \n",
       "...                       ...            ...              ...           ...   \n",
       "101525  Ariena Boutique Hotel            3.9              4.2            13   \n",
       "101526  Ariena Boutique Hotel            3.9              4.2            13   \n",
       "101527  Ariena Boutique Hotel            3.9              4.2            13   \n",
       "101528  Ariena Boutique Hotel            3.9              4.2            13   \n",
       "101529  Ariena Boutique Hotel            3.9              4.2            13   \n",
       "\n",
       "        Delivery Votes   Cuisine  Place Name        City  \\\n",
       "0                    0  Fast Food   Malakpet   Hyderabad   \n",
       "1                    0  Fast Food   Malakpet   Hyderabad   \n",
       "2                    0  Fast Food   Malakpet   Hyderabad   \n",
       "3                    0  Fast Food   Malakpet   Hyderabad   \n",
       "4                    0  Fast Food   Malakpet   Hyderabad   \n",
       "...                ...        ...        ...         ...   \n",
       "101525             523      Pizza     Purena      Raipur   \n",
       "101526             523      Pizza     Purena      Raipur   \n",
       "101527             523      Pizza     Purena      Raipur   \n",
       "101528             523      Pizza     Purena      Raipur   \n",
       "101529             523      Pizza     Purena      Raipur   \n",
       "\n",
       "                       Item Name  Votes  Original Price  Average Price  \n",
       "0            Platter Kebab Combo     84           249.0     165.114286  \n",
       "1        Chicken Rumali Shawarma     45           129.0     165.114286  \n",
       "2         Chicken Tandoori Salad     39           189.0     165.114286  \n",
       "3              Chicken BBQ Salad     43           189.0     165.114286  \n",
       "4       Special Doner Wrap Combo     31           205.0     165.114286  \n",
       "...                          ...    ...             ...            ...  \n",
       "101525               Fruit Raita      0           125.0     353.155738  \n",
       "101526              Boondi Raita      0           125.0     353.155738  \n",
       "101527                Mint Raita      0           125.0     353.155738  \n",
       "101528              Mint Chutney      0            50.0     353.155738  \n",
       "101529           Moong Dal Halwa     21           195.0     353.155738  \n",
       "\n",
       "[101530 rows x 12 columns]"
      ]
     },
     "execution_count": 18,
     "metadata": {},
     "output_type": "execute_result"
    }
   ],
   "source": [
    "zmt = zmt.rename(columns={'Prices_x': 'Original Price','Prices_y':'Average Price'})\n",
    "zmt"
   ]
  },
  {
   "cell_type": "markdown",
   "id": "0d8ebe18",
   "metadata": {},
   "source": [
    "#  The mean value of the 'Dining Rating' column  and assigns it to the variable 'h'."
   ]
  },
  {
   "cell_type": "code",
   "execution_count": 19,
   "id": "240fc9e5",
   "metadata": {},
   "outputs": [],
   "source": [
    "h=zmt['Dining Rating'].mean()"
   ]
  },
  {
   "cell_type": "markdown",
   "id": "3e3201be",
   "metadata": {},
   "source": [
    "# Fills the missing values in the 'Dining Rating' with the value 'h' "
   ]
  },
  {
   "cell_type": "code",
   "execution_count": 20,
   "id": "1ad6d0c9",
   "metadata": {},
   "outputs": [],
   "source": [
    "zmt['Dining Rating'].fillna(h,inplace=True)"
   ]
  },
  {
   "cell_type": "markdown",
   "id": "c334e19f",
   "metadata": {},
   "source": [
    "#  The mean value of the 'Delivery Rating' column  and assigns it to the variable 'g'."
   ]
  },
  {
   "cell_type": "code",
   "execution_count": 21,
   "id": "873644bc",
   "metadata": {},
   "outputs": [],
   "source": [
    "g=zmt['Delivery Rating'].mean()"
   ]
  },
  {
   "cell_type": "markdown",
   "id": "c052fe46",
   "metadata": {},
   "source": [
    "# Fills the missing values in the 'Delivery Rating' with the value 'g' "
   ]
  },
  {
   "cell_type": "code",
   "execution_count": 22,
   "id": "68ed92bc",
   "metadata": {},
   "outputs": [],
   "source": [
    "zmt['Delivery Rating'].fillna(g,inplace=True)"
   ]
  },
  {
   "cell_type": "markdown",
   "id": "0d9bac87",
   "metadata": {},
   "source": [
    "# information of the data"
   ]
  },
  {
   "cell_type": "code",
   "execution_count": 23,
   "id": "f9dbb78c",
   "metadata": {},
   "outputs": [
    {
     "name": "stdout",
     "output_type": "stream",
     "text": [
      "<class 'pandas.core.frame.DataFrame'>\n",
      "Int64Index: 101530 entries, 0 to 101529\n",
      "Data columns (total 12 columns):\n",
      " #   Column           Non-Null Count   Dtype  \n",
      "---  ------           --------------   -----  \n",
      " 0   Restaurant Name  101530 non-null  object \n",
      " 1   Dining Rating    101530 non-null  float64\n",
      " 2   Delivery Rating  101530 non-null  float64\n",
      " 3   Dining Votes     101530 non-null  int64  \n",
      " 4   Delivery Votes   101530 non-null  int64  \n",
      " 5   Cuisine          101530 non-null  object \n",
      " 6   Place Name       101530 non-null  object \n",
      " 7   City             101530 non-null  object \n",
      " 8   Item Name        101530 non-null  object \n",
      " 9   Votes            101530 non-null  int64  \n",
      " 10  Original Price   101530 non-null  float64\n",
      " 11  Average Price    101530 non-null  float64\n",
      "dtypes: float64(4), int64(3), object(5)\n",
      "memory usage: 10.1+ MB\n"
     ]
    }
   ],
   "source": [
    "zmt.info()"
   ]
  },
  {
   "cell_type": "markdown",
   "id": "b979a03e",
   "metadata": {},
   "source": [
    "# printing top five lines"
   ]
  },
  {
   "cell_type": "code",
   "execution_count": 24,
   "id": "eb3fa93c",
   "metadata": {},
   "outputs": [
    {
     "data": {
      "text/html": [
       "<div>\n",
       "<style scoped>\n",
       "    .dataframe tbody tr th:only-of-type {\n",
       "        vertical-align: middle;\n",
       "    }\n",
       "\n",
       "    .dataframe tbody tr th {\n",
       "        vertical-align: top;\n",
       "    }\n",
       "\n",
       "    .dataframe thead th {\n",
       "        text-align: right;\n",
       "    }\n",
       "</style>\n",
       "<table border=\"1\" class=\"dataframe\">\n",
       "  <thead>\n",
       "    <tr style=\"text-align: right;\">\n",
       "      <th></th>\n",
       "      <th>Restaurant Name</th>\n",
       "      <th>Dining Rating</th>\n",
       "      <th>Delivery Rating</th>\n",
       "      <th>Dining Votes</th>\n",
       "      <th>Delivery Votes</th>\n",
       "      <th>Cuisine</th>\n",
       "      <th>Place Name</th>\n",
       "      <th>City</th>\n",
       "      <th>Item Name</th>\n",
       "      <th>Votes</th>\n",
       "      <th>Original Price</th>\n",
       "      <th>Average Price</th>\n",
       "    </tr>\n",
       "  </thead>\n",
       "  <tbody>\n",
       "    <tr>\n",
       "      <th>0</th>\n",
       "      <td>Doner King</td>\n",
       "      <td>3.9</td>\n",
       "      <td>4.2</td>\n",
       "      <td>39</td>\n",
       "      <td>0</td>\n",
       "      <td>Fast Food</td>\n",
       "      <td>Malakpet</td>\n",
       "      <td>Hyderabad</td>\n",
       "      <td>Platter Kebab Combo</td>\n",
       "      <td>84</td>\n",
       "      <td>249.0</td>\n",
       "      <td>165.114286</td>\n",
       "    </tr>\n",
       "    <tr>\n",
       "      <th>1</th>\n",
       "      <td>Doner King</td>\n",
       "      <td>3.9</td>\n",
       "      <td>4.2</td>\n",
       "      <td>39</td>\n",
       "      <td>0</td>\n",
       "      <td>Fast Food</td>\n",
       "      <td>Malakpet</td>\n",
       "      <td>Hyderabad</td>\n",
       "      <td>Chicken Rumali Shawarma</td>\n",
       "      <td>45</td>\n",
       "      <td>129.0</td>\n",
       "      <td>165.114286</td>\n",
       "    </tr>\n",
       "    <tr>\n",
       "      <th>2</th>\n",
       "      <td>Doner King</td>\n",
       "      <td>3.9</td>\n",
       "      <td>4.2</td>\n",
       "      <td>39</td>\n",
       "      <td>0</td>\n",
       "      <td>Fast Food</td>\n",
       "      <td>Malakpet</td>\n",
       "      <td>Hyderabad</td>\n",
       "      <td>Chicken Tandoori Salad</td>\n",
       "      <td>39</td>\n",
       "      <td>189.0</td>\n",
       "      <td>165.114286</td>\n",
       "    </tr>\n",
       "    <tr>\n",
       "      <th>3</th>\n",
       "      <td>Doner King</td>\n",
       "      <td>3.9</td>\n",
       "      <td>4.2</td>\n",
       "      <td>39</td>\n",
       "      <td>0</td>\n",
       "      <td>Fast Food</td>\n",
       "      <td>Malakpet</td>\n",
       "      <td>Hyderabad</td>\n",
       "      <td>Chicken BBQ Salad</td>\n",
       "      <td>43</td>\n",
       "      <td>189.0</td>\n",
       "      <td>165.114286</td>\n",
       "    </tr>\n",
       "    <tr>\n",
       "      <th>4</th>\n",
       "      <td>Doner King</td>\n",
       "      <td>3.9</td>\n",
       "      <td>4.2</td>\n",
       "      <td>39</td>\n",
       "      <td>0</td>\n",
       "      <td>Fast Food</td>\n",
       "      <td>Malakpet</td>\n",
       "      <td>Hyderabad</td>\n",
       "      <td>Special Doner Wrap Combo</td>\n",
       "      <td>31</td>\n",
       "      <td>205.0</td>\n",
       "      <td>165.114286</td>\n",
       "    </tr>\n",
       "  </tbody>\n",
       "</table>\n",
       "</div>"
      ],
      "text/plain": [
       "  Restaurant Name  Dining Rating  Delivery Rating  Dining Votes  \\\n",
       "0      Doner King            3.9              4.2            39   \n",
       "1      Doner King            3.9              4.2            39   \n",
       "2      Doner King            3.9              4.2            39   \n",
       "3      Doner King            3.9              4.2            39   \n",
       "4      Doner King            3.9              4.2            39   \n",
       "\n",
       "   Delivery Votes   Cuisine  Place Name        City                 Item Name  \\\n",
       "0               0  Fast Food   Malakpet   Hyderabad       Platter Kebab Combo   \n",
       "1               0  Fast Food   Malakpet   Hyderabad   Chicken Rumali Shawarma   \n",
       "2               0  Fast Food   Malakpet   Hyderabad    Chicken Tandoori Salad   \n",
       "3               0  Fast Food   Malakpet   Hyderabad         Chicken BBQ Salad   \n",
       "4               0  Fast Food   Malakpet   Hyderabad  Special Doner Wrap Combo   \n",
       "\n",
       "   Votes  Original Price  Average Price  \n",
       "0     84           249.0     165.114286  \n",
       "1     45           129.0     165.114286  \n",
       "2     39           189.0     165.114286  \n",
       "3     43           189.0     165.114286  \n",
       "4     31           205.0     165.114286  "
      ]
     },
     "execution_count": 24,
     "metadata": {},
     "output_type": "execute_result"
    }
   ],
   "source": [
    "zmt.head()"
   ]
  },
  {
   "cell_type": "markdown",
   "id": "f618d65a",
   "metadata": {},
   "source": [
    "# machine learning"
   ]
  },
  {
   "cell_type": "markdown",
   "id": "9c891bd1",
   "metadata": {},
   "source": [
    "# copying the data"
   ]
  },
  {
   "cell_type": "code",
   "execution_count": 25,
   "id": "0483c5e4",
   "metadata": {},
   "outputs": [
    {
     "data": {
      "text/html": [
       "<div>\n",
       "<style scoped>\n",
       "    .dataframe tbody tr th:only-of-type {\n",
       "        vertical-align: middle;\n",
       "    }\n",
       "\n",
       "    .dataframe tbody tr th {\n",
       "        vertical-align: top;\n",
       "    }\n",
       "\n",
       "    .dataframe thead th {\n",
       "        text-align: right;\n",
       "    }\n",
       "</style>\n",
       "<table border=\"1\" class=\"dataframe\">\n",
       "  <thead>\n",
       "    <tr style=\"text-align: right;\">\n",
       "      <th></th>\n",
       "      <th>Restaurant Name</th>\n",
       "      <th>Dining Rating</th>\n",
       "      <th>Delivery Rating</th>\n",
       "      <th>Dining Votes</th>\n",
       "      <th>Delivery Votes</th>\n",
       "      <th>Cuisine</th>\n",
       "      <th>Place Name</th>\n",
       "      <th>City</th>\n",
       "      <th>Item Name</th>\n",
       "      <th>Votes</th>\n",
       "      <th>Original Price</th>\n",
       "      <th>Average Price</th>\n",
       "    </tr>\n",
       "  </thead>\n",
       "  <tbody>\n",
       "    <tr>\n",
       "      <th>0</th>\n",
       "      <td>Doner King</td>\n",
       "      <td>3.9</td>\n",
       "      <td>4.2</td>\n",
       "      <td>39</td>\n",
       "      <td>0</td>\n",
       "      <td>Fast Food</td>\n",
       "      <td>Malakpet</td>\n",
       "      <td>Hyderabad</td>\n",
       "      <td>Platter Kebab Combo</td>\n",
       "      <td>84</td>\n",
       "      <td>249.0</td>\n",
       "      <td>165.114286</td>\n",
       "    </tr>\n",
       "    <tr>\n",
       "      <th>1</th>\n",
       "      <td>Doner King</td>\n",
       "      <td>3.9</td>\n",
       "      <td>4.2</td>\n",
       "      <td>39</td>\n",
       "      <td>0</td>\n",
       "      <td>Fast Food</td>\n",
       "      <td>Malakpet</td>\n",
       "      <td>Hyderabad</td>\n",
       "      <td>Chicken Rumali Shawarma</td>\n",
       "      <td>45</td>\n",
       "      <td>129.0</td>\n",
       "      <td>165.114286</td>\n",
       "    </tr>\n",
       "    <tr>\n",
       "      <th>2</th>\n",
       "      <td>Doner King</td>\n",
       "      <td>3.9</td>\n",
       "      <td>4.2</td>\n",
       "      <td>39</td>\n",
       "      <td>0</td>\n",
       "      <td>Fast Food</td>\n",
       "      <td>Malakpet</td>\n",
       "      <td>Hyderabad</td>\n",
       "      <td>Chicken Tandoori Salad</td>\n",
       "      <td>39</td>\n",
       "      <td>189.0</td>\n",
       "      <td>165.114286</td>\n",
       "    </tr>\n",
       "    <tr>\n",
       "      <th>3</th>\n",
       "      <td>Doner King</td>\n",
       "      <td>3.9</td>\n",
       "      <td>4.2</td>\n",
       "      <td>39</td>\n",
       "      <td>0</td>\n",
       "      <td>Fast Food</td>\n",
       "      <td>Malakpet</td>\n",
       "      <td>Hyderabad</td>\n",
       "      <td>Chicken BBQ Salad</td>\n",
       "      <td>43</td>\n",
       "      <td>189.0</td>\n",
       "      <td>165.114286</td>\n",
       "    </tr>\n",
       "    <tr>\n",
       "      <th>4</th>\n",
       "      <td>Doner King</td>\n",
       "      <td>3.9</td>\n",
       "      <td>4.2</td>\n",
       "      <td>39</td>\n",
       "      <td>0</td>\n",
       "      <td>Fast Food</td>\n",
       "      <td>Malakpet</td>\n",
       "      <td>Hyderabad</td>\n",
       "      <td>Special Doner Wrap Combo</td>\n",
       "      <td>31</td>\n",
       "      <td>205.0</td>\n",
       "      <td>165.114286</td>\n",
       "    </tr>\n",
       "    <tr>\n",
       "      <th>...</th>\n",
       "      <td>...</td>\n",
       "      <td>...</td>\n",
       "      <td>...</td>\n",
       "      <td>...</td>\n",
       "      <td>...</td>\n",
       "      <td>...</td>\n",
       "      <td>...</td>\n",
       "      <td>...</td>\n",
       "      <td>...</td>\n",
       "      <td>...</td>\n",
       "      <td>...</td>\n",
       "      <td>...</td>\n",
       "    </tr>\n",
       "    <tr>\n",
       "      <th>101525</th>\n",
       "      <td>Ariena Boutique Hotel</td>\n",
       "      <td>3.9</td>\n",
       "      <td>4.2</td>\n",
       "      <td>13</td>\n",
       "      <td>523</td>\n",
       "      <td>Pizza</td>\n",
       "      <td>Purena</td>\n",
       "      <td>Raipur</td>\n",
       "      <td>Fruit Raita</td>\n",
       "      <td>0</td>\n",
       "      <td>125.0</td>\n",
       "      <td>353.155738</td>\n",
       "    </tr>\n",
       "    <tr>\n",
       "      <th>101526</th>\n",
       "      <td>Ariena Boutique Hotel</td>\n",
       "      <td>3.9</td>\n",
       "      <td>4.2</td>\n",
       "      <td>13</td>\n",
       "      <td>523</td>\n",
       "      <td>Pizza</td>\n",
       "      <td>Purena</td>\n",
       "      <td>Raipur</td>\n",
       "      <td>Boondi Raita</td>\n",
       "      <td>0</td>\n",
       "      <td>125.0</td>\n",
       "      <td>353.155738</td>\n",
       "    </tr>\n",
       "    <tr>\n",
       "      <th>101527</th>\n",
       "      <td>Ariena Boutique Hotel</td>\n",
       "      <td>3.9</td>\n",
       "      <td>4.2</td>\n",
       "      <td>13</td>\n",
       "      <td>523</td>\n",
       "      <td>Pizza</td>\n",
       "      <td>Purena</td>\n",
       "      <td>Raipur</td>\n",
       "      <td>Mint Raita</td>\n",
       "      <td>0</td>\n",
       "      <td>125.0</td>\n",
       "      <td>353.155738</td>\n",
       "    </tr>\n",
       "    <tr>\n",
       "      <th>101528</th>\n",
       "      <td>Ariena Boutique Hotel</td>\n",
       "      <td>3.9</td>\n",
       "      <td>4.2</td>\n",
       "      <td>13</td>\n",
       "      <td>523</td>\n",
       "      <td>Pizza</td>\n",
       "      <td>Purena</td>\n",
       "      <td>Raipur</td>\n",
       "      <td>Mint Chutney</td>\n",
       "      <td>0</td>\n",
       "      <td>50.0</td>\n",
       "      <td>353.155738</td>\n",
       "    </tr>\n",
       "    <tr>\n",
       "      <th>101529</th>\n",
       "      <td>Ariena Boutique Hotel</td>\n",
       "      <td>3.9</td>\n",
       "      <td>4.2</td>\n",
       "      <td>13</td>\n",
       "      <td>523</td>\n",
       "      <td>Pizza</td>\n",
       "      <td>Purena</td>\n",
       "      <td>Raipur</td>\n",
       "      <td>Moong Dal Halwa</td>\n",
       "      <td>21</td>\n",
       "      <td>195.0</td>\n",
       "      <td>353.155738</td>\n",
       "    </tr>\n",
       "  </tbody>\n",
       "</table>\n",
       "<p>101530 rows × 12 columns</p>\n",
       "</div>"
      ],
      "text/plain": [
       "              Restaurant Name  Dining Rating  Delivery Rating  Dining Votes  \\\n",
       "0                  Doner King            3.9              4.2            39   \n",
       "1                  Doner King            3.9              4.2            39   \n",
       "2                  Doner King            3.9              4.2            39   \n",
       "3                  Doner King            3.9              4.2            39   \n",
       "4                  Doner King            3.9              4.2            39   \n",
       "...                       ...            ...              ...           ...   \n",
       "101525  Ariena Boutique Hotel            3.9              4.2            13   \n",
       "101526  Ariena Boutique Hotel            3.9              4.2            13   \n",
       "101527  Ariena Boutique Hotel            3.9              4.2            13   \n",
       "101528  Ariena Boutique Hotel            3.9              4.2            13   \n",
       "101529  Ariena Boutique Hotel            3.9              4.2            13   \n",
       "\n",
       "        Delivery Votes   Cuisine  Place Name        City  \\\n",
       "0                    0  Fast Food   Malakpet   Hyderabad   \n",
       "1                    0  Fast Food   Malakpet   Hyderabad   \n",
       "2                    0  Fast Food   Malakpet   Hyderabad   \n",
       "3                    0  Fast Food   Malakpet   Hyderabad   \n",
       "4                    0  Fast Food   Malakpet   Hyderabad   \n",
       "...                ...        ...        ...         ...   \n",
       "101525             523      Pizza     Purena      Raipur   \n",
       "101526             523      Pizza     Purena      Raipur   \n",
       "101527             523      Pizza     Purena      Raipur   \n",
       "101528             523      Pizza     Purena      Raipur   \n",
       "101529             523      Pizza     Purena      Raipur   \n",
       "\n",
       "                       Item Name  Votes  Original Price  Average Price  \n",
       "0            Platter Kebab Combo     84           249.0     165.114286  \n",
       "1        Chicken Rumali Shawarma     45           129.0     165.114286  \n",
       "2         Chicken Tandoori Salad     39           189.0     165.114286  \n",
       "3              Chicken BBQ Salad     43           189.0     165.114286  \n",
       "4       Special Doner Wrap Combo     31           205.0     165.114286  \n",
       "...                          ...    ...             ...            ...  \n",
       "101525               Fruit Raita      0           125.0     353.155738  \n",
       "101526              Boondi Raita      0           125.0     353.155738  \n",
       "101527                Mint Raita      0           125.0     353.155738  \n",
       "101528              Mint Chutney      0            50.0     353.155738  \n",
       "101529           Moong Dal Halwa     21           195.0     353.155738  \n",
       "\n",
       "[101530 rows x 12 columns]"
      ]
     },
     "execution_count": 25,
     "metadata": {},
     "output_type": "execute_result"
    }
   ],
   "source": [
    "zmt1 = zmt.copy()\n",
    "zmt1"
   ]
  },
  {
   "cell_type": "markdown",
   "id": "abca4e23",
   "metadata": {},
   "source": [
    "# two columns ('Original Price' and 'Average Price') in the 'zmt1' DataFrame are categorized into three labels (0, 1, and 2) based on specific price bins"
   ]
  },
  {
   "cell_type": "code",
   "execution_count": 26,
   "id": "4fc1c213",
   "metadata": {},
   "outputs": [
    {
     "data": {
      "text/html": [
       "<div>\n",
       "<style scoped>\n",
       "    .dataframe tbody tr th:only-of-type {\n",
       "        vertical-align: middle;\n",
       "    }\n",
       "\n",
       "    .dataframe tbody tr th {\n",
       "        vertical-align: top;\n",
       "    }\n",
       "\n",
       "    .dataframe thead th {\n",
       "        text-align: right;\n",
       "    }\n",
       "</style>\n",
       "<table border=\"1\" class=\"dataframe\">\n",
       "  <thead>\n",
       "    <tr style=\"text-align: right;\">\n",
       "      <th></th>\n",
       "      <th>Restaurant Name</th>\n",
       "      <th>Dining Rating</th>\n",
       "      <th>Delivery Rating</th>\n",
       "      <th>Dining Votes</th>\n",
       "      <th>Delivery Votes</th>\n",
       "      <th>Cuisine</th>\n",
       "      <th>Place Name</th>\n",
       "      <th>City</th>\n",
       "      <th>Item Name</th>\n",
       "      <th>Votes</th>\n",
       "      <th>Original Price</th>\n",
       "      <th>Average Price</th>\n",
       "    </tr>\n",
       "  </thead>\n",
       "  <tbody>\n",
       "    <tr>\n",
       "      <th>0</th>\n",
       "      <td>Doner King</td>\n",
       "      <td>3.9</td>\n",
       "      <td>4.2</td>\n",
       "      <td>39</td>\n",
       "      <td>0</td>\n",
       "      <td>Fast Food</td>\n",
       "      <td>Malakpet</td>\n",
       "      <td>Hyderabad</td>\n",
       "      <td>Platter Kebab Combo</td>\n",
       "      <td>84</td>\n",
       "      <td>1</td>\n",
       "      <td>0</td>\n",
       "    </tr>\n",
       "    <tr>\n",
       "      <th>1</th>\n",
       "      <td>Doner King</td>\n",
       "      <td>3.9</td>\n",
       "      <td>4.2</td>\n",
       "      <td>39</td>\n",
       "      <td>0</td>\n",
       "      <td>Fast Food</td>\n",
       "      <td>Malakpet</td>\n",
       "      <td>Hyderabad</td>\n",
       "      <td>Chicken Rumali Shawarma</td>\n",
       "      <td>45</td>\n",
       "      <td>0</td>\n",
       "      <td>0</td>\n",
       "    </tr>\n",
       "    <tr>\n",
       "      <th>2</th>\n",
       "      <td>Doner King</td>\n",
       "      <td>3.9</td>\n",
       "      <td>4.2</td>\n",
       "      <td>39</td>\n",
       "      <td>0</td>\n",
       "      <td>Fast Food</td>\n",
       "      <td>Malakpet</td>\n",
       "      <td>Hyderabad</td>\n",
       "      <td>Chicken Tandoori Salad</td>\n",
       "      <td>39</td>\n",
       "      <td>0</td>\n",
       "      <td>0</td>\n",
       "    </tr>\n",
       "    <tr>\n",
       "      <th>3</th>\n",
       "      <td>Doner King</td>\n",
       "      <td>3.9</td>\n",
       "      <td>4.2</td>\n",
       "      <td>39</td>\n",
       "      <td>0</td>\n",
       "      <td>Fast Food</td>\n",
       "      <td>Malakpet</td>\n",
       "      <td>Hyderabad</td>\n",
       "      <td>Chicken BBQ Salad</td>\n",
       "      <td>43</td>\n",
       "      <td>0</td>\n",
       "      <td>0</td>\n",
       "    </tr>\n",
       "    <tr>\n",
       "      <th>4</th>\n",
       "      <td>Doner King</td>\n",
       "      <td>3.9</td>\n",
       "      <td>4.2</td>\n",
       "      <td>39</td>\n",
       "      <td>0</td>\n",
       "      <td>Fast Food</td>\n",
       "      <td>Malakpet</td>\n",
       "      <td>Hyderabad</td>\n",
       "      <td>Special Doner Wrap Combo</td>\n",
       "      <td>31</td>\n",
       "      <td>1</td>\n",
       "      <td>0</td>\n",
       "    </tr>\n",
       "    <tr>\n",
       "      <th>...</th>\n",
       "      <td>...</td>\n",
       "      <td>...</td>\n",
       "      <td>...</td>\n",
       "      <td>...</td>\n",
       "      <td>...</td>\n",
       "      <td>...</td>\n",
       "      <td>...</td>\n",
       "      <td>...</td>\n",
       "      <td>...</td>\n",
       "      <td>...</td>\n",
       "      <td>...</td>\n",
       "      <td>...</td>\n",
       "    </tr>\n",
       "    <tr>\n",
       "      <th>101525</th>\n",
       "      <td>Ariena Boutique Hotel</td>\n",
       "      <td>3.9</td>\n",
       "      <td>4.2</td>\n",
       "      <td>13</td>\n",
       "      <td>523</td>\n",
       "      <td>Pizza</td>\n",
       "      <td>Purena</td>\n",
       "      <td>Raipur</td>\n",
       "      <td>Fruit Raita</td>\n",
       "      <td>0</td>\n",
       "      <td>0</td>\n",
       "      <td>1</td>\n",
       "    </tr>\n",
       "    <tr>\n",
       "      <th>101526</th>\n",
       "      <td>Ariena Boutique Hotel</td>\n",
       "      <td>3.9</td>\n",
       "      <td>4.2</td>\n",
       "      <td>13</td>\n",
       "      <td>523</td>\n",
       "      <td>Pizza</td>\n",
       "      <td>Purena</td>\n",
       "      <td>Raipur</td>\n",
       "      <td>Boondi Raita</td>\n",
       "      <td>0</td>\n",
       "      <td>0</td>\n",
       "      <td>1</td>\n",
       "    </tr>\n",
       "    <tr>\n",
       "      <th>101527</th>\n",
       "      <td>Ariena Boutique Hotel</td>\n",
       "      <td>3.9</td>\n",
       "      <td>4.2</td>\n",
       "      <td>13</td>\n",
       "      <td>523</td>\n",
       "      <td>Pizza</td>\n",
       "      <td>Purena</td>\n",
       "      <td>Raipur</td>\n",
       "      <td>Mint Raita</td>\n",
       "      <td>0</td>\n",
       "      <td>0</td>\n",
       "      <td>1</td>\n",
       "    </tr>\n",
       "    <tr>\n",
       "      <th>101528</th>\n",
       "      <td>Ariena Boutique Hotel</td>\n",
       "      <td>3.9</td>\n",
       "      <td>4.2</td>\n",
       "      <td>13</td>\n",
       "      <td>523</td>\n",
       "      <td>Pizza</td>\n",
       "      <td>Purena</td>\n",
       "      <td>Raipur</td>\n",
       "      <td>Mint Chutney</td>\n",
       "      <td>0</td>\n",
       "      <td>0</td>\n",
       "      <td>1</td>\n",
       "    </tr>\n",
       "    <tr>\n",
       "      <th>101529</th>\n",
       "      <td>Ariena Boutique Hotel</td>\n",
       "      <td>3.9</td>\n",
       "      <td>4.2</td>\n",
       "      <td>13</td>\n",
       "      <td>523</td>\n",
       "      <td>Pizza</td>\n",
       "      <td>Purena</td>\n",
       "      <td>Raipur</td>\n",
       "      <td>Moong Dal Halwa</td>\n",
       "      <td>21</td>\n",
       "      <td>0</td>\n",
       "      <td>1</td>\n",
       "    </tr>\n",
       "  </tbody>\n",
       "</table>\n",
       "<p>101530 rows × 12 columns</p>\n",
       "</div>"
      ],
      "text/plain": [
       "              Restaurant Name  Dining Rating  Delivery Rating  Dining Votes  \\\n",
       "0                  Doner King            3.9              4.2            39   \n",
       "1                  Doner King            3.9              4.2            39   \n",
       "2                  Doner King            3.9              4.2            39   \n",
       "3                  Doner King            3.9              4.2            39   \n",
       "4                  Doner King            3.9              4.2            39   \n",
       "...                       ...            ...              ...           ...   \n",
       "101525  Ariena Boutique Hotel            3.9              4.2            13   \n",
       "101526  Ariena Boutique Hotel            3.9              4.2            13   \n",
       "101527  Ariena Boutique Hotel            3.9              4.2            13   \n",
       "101528  Ariena Boutique Hotel            3.9              4.2            13   \n",
       "101529  Ariena Boutique Hotel            3.9              4.2            13   \n",
       "\n",
       "        Delivery Votes   Cuisine  Place Name        City  \\\n",
       "0                    0  Fast Food   Malakpet   Hyderabad   \n",
       "1                    0  Fast Food   Malakpet   Hyderabad   \n",
       "2                    0  Fast Food   Malakpet   Hyderabad   \n",
       "3                    0  Fast Food   Malakpet   Hyderabad   \n",
       "4                    0  Fast Food   Malakpet   Hyderabad   \n",
       "...                ...        ...        ...         ...   \n",
       "101525             523      Pizza     Purena      Raipur   \n",
       "101526             523      Pizza     Purena      Raipur   \n",
       "101527             523      Pizza     Purena      Raipur   \n",
       "101528             523      Pizza     Purena      Raipur   \n",
       "101529             523      Pizza     Purena      Raipur   \n",
       "\n",
       "                       Item Name  Votes Original Price Average Price  \n",
       "0            Platter Kebab Combo     84              1             0  \n",
       "1        Chicken Rumali Shawarma     45              0             0  \n",
       "2         Chicken Tandoori Salad     39              0             0  \n",
       "3              Chicken BBQ Salad     43              0             0  \n",
       "4       Special Doner Wrap Combo     31              1             0  \n",
       "...                          ...    ...            ...           ...  \n",
       "101525               Fruit Raita      0              0             1  \n",
       "101526              Boondi Raita      0              0             1  \n",
       "101527                Mint Raita      0              0             1  \n",
       "101528              Mint Chutney      0              0             1  \n",
       "101529           Moong Dal Halwa     21              0             1  \n",
       "\n",
       "[101530 rows x 12 columns]"
      ]
     },
     "execution_count": 26,
     "metadata": {},
     "output_type": "execute_result"
    }
   ],
   "source": [
    "price_bins = [-float('inf'), 200, 500, float('inf')]\n",
    "price_labels = [0,1,2]\n",
    "\n",
    "# Categorize 'Average Price'\n",
    "zmt1['Original Price'] = pd.cut(zmt1['Original Price'], bins=price_bins, labels=price_labels, right=False)\n",
    "\n",
    "# Categorize 'Original Price'\n",
    "zmt1['Average Price'] = pd.cut(zmt1['Average Price'], bins=price_bins, labels=price_labels, right=False)\n",
    "\n",
    "zmt1"
   ]
  },
  {
   "cell_type": "markdown",
   "id": "76e9ccb7",
   "metadata": {},
   "source": [
    "# Convert the Object Datatypes to int using label encoder"
   ]
  },
  {
   "cell_type": "code",
   "execution_count": 27,
   "id": "46a10420",
   "metadata": {},
   "outputs": [
    {
     "data": {
      "text/html": [
       "<div>\n",
       "<style scoped>\n",
       "    .dataframe tbody tr th:only-of-type {\n",
       "        vertical-align: middle;\n",
       "    }\n",
       "\n",
       "    .dataframe tbody tr th {\n",
       "        vertical-align: top;\n",
       "    }\n",
       "\n",
       "    .dataframe thead th {\n",
       "        text-align: right;\n",
       "    }\n",
       "</style>\n",
       "<table border=\"1\" class=\"dataframe\">\n",
       "  <thead>\n",
       "    <tr style=\"text-align: right;\">\n",
       "      <th></th>\n",
       "      <th>Restaurant Name</th>\n",
       "      <th>Dining Rating</th>\n",
       "      <th>Delivery Rating</th>\n",
       "      <th>Dining Votes</th>\n",
       "      <th>Delivery Votes</th>\n",
       "      <th>Cuisine</th>\n",
       "      <th>Place Name</th>\n",
       "      <th>City</th>\n",
       "      <th>Item Name</th>\n",
       "      <th>Votes</th>\n",
       "      <th>Original Price</th>\n",
       "      <th>Average Price</th>\n",
       "    </tr>\n",
       "  </thead>\n",
       "  <tbody>\n",
       "    <tr>\n",
       "      <th>0</th>\n",
       "      <td>207</td>\n",
       "      <td>3.9</td>\n",
       "      <td>4.2</td>\n",
       "      <td>39</td>\n",
       "      <td>0</td>\n",
       "      <td>12</td>\n",
       "      <td>184</td>\n",
       "      <td>5</td>\n",
       "      <td>41530</td>\n",
       "      <td>84</td>\n",
       "      <td>1</td>\n",
       "      <td>0</td>\n",
       "    </tr>\n",
       "    <tr>\n",
       "      <th>1</th>\n",
       "      <td>207</td>\n",
       "      <td>3.9</td>\n",
       "      <td>4.2</td>\n",
       "      <td>39</td>\n",
       "      <td>0</td>\n",
       "      <td>12</td>\n",
       "      <td>184</td>\n",
       "      <td>5</td>\n",
       "      <td>12242</td>\n",
       "      <td>45</td>\n",
       "      <td>0</td>\n",
       "      <td>0</td>\n",
       "    </tr>\n",
       "    <tr>\n",
       "      <th>2</th>\n",
       "      <td>207</td>\n",
       "      <td>3.9</td>\n",
       "      <td>4.2</td>\n",
       "      <td>39</td>\n",
       "      <td>0</td>\n",
       "      <td>12</td>\n",
       "      <td>184</td>\n",
       "      <td>5</td>\n",
       "      <td>12837</td>\n",
       "      <td>39</td>\n",
       "      <td>0</td>\n",
       "      <td>0</td>\n",
       "    </tr>\n",
       "    <tr>\n",
       "      <th>3</th>\n",
       "      <td>207</td>\n",
       "      <td>3.9</td>\n",
       "      <td>4.2</td>\n",
       "      <td>39</td>\n",
       "      <td>0</td>\n",
       "      <td>12</td>\n",
       "      <td>184</td>\n",
       "      <td>5</td>\n",
       "      <td>9249</td>\n",
       "      <td>43</td>\n",
       "      <td>0</td>\n",
       "      <td>0</td>\n",
       "    </tr>\n",
       "    <tr>\n",
       "      <th>4</th>\n",
       "      <td>207</td>\n",
       "      <td>3.9</td>\n",
       "      <td>4.2</td>\n",
       "      <td>39</td>\n",
       "      <td>0</td>\n",
       "      <td>12</td>\n",
       "      <td>184</td>\n",
       "      <td>5</td>\n",
       "      <td>46959</td>\n",
       "      <td>31</td>\n",
       "      <td>1</td>\n",
       "      <td>0</td>\n",
       "    </tr>\n",
       "    <tr>\n",
       "      <th>...</th>\n",
       "      <td>...</td>\n",
       "      <td>...</td>\n",
       "      <td>...</td>\n",
       "      <td>...</td>\n",
       "      <td>...</td>\n",
       "      <td>...</td>\n",
       "      <td>...</td>\n",
       "      <td>...</td>\n",
       "      <td>...</td>\n",
       "      <td>...</td>\n",
       "      <td>...</td>\n",
       "      <td>...</td>\n",
       "    </tr>\n",
       "    <tr>\n",
       "      <th>101525</th>\n",
       "      <td>51</td>\n",
       "      <td>3.9</td>\n",
       "      <td>4.2</td>\n",
       "      <td>13</td>\n",
       "      <td>523</td>\n",
       "      <td>31</td>\n",
       "      <td>240</td>\n",
       "      <td>15</td>\n",
       "      <td>22353</td>\n",
       "      <td>0</td>\n",
       "      <td>0</td>\n",
       "      <td>1</td>\n",
       "    </tr>\n",
       "    <tr>\n",
       "      <th>101526</th>\n",
       "      <td>51</td>\n",
       "      <td>3.9</td>\n",
       "      <td>4.2</td>\n",
       "      <td>13</td>\n",
       "      <td>523</td>\n",
       "      <td>31</td>\n",
       "      <td>240</td>\n",
       "      <td>15</td>\n",
       "      <td>5618</td>\n",
       "      <td>0</td>\n",
       "      <td>0</td>\n",
       "      <td>1</td>\n",
       "    </tr>\n",
       "    <tr>\n",
       "      <th>101527</th>\n",
       "      <td>51</td>\n",
       "      <td>3.9</td>\n",
       "      <td>4.2</td>\n",
       "      <td>13</td>\n",
       "      <td>523</td>\n",
       "      <td>31</td>\n",
       "      <td>240</td>\n",
       "      <td>15</td>\n",
       "      <td>32393</td>\n",
       "      <td>0</td>\n",
       "      <td>0</td>\n",
       "      <td>1</td>\n",
       "    </tr>\n",
       "    <tr>\n",
       "      <th>101528</th>\n",
       "      <td>51</td>\n",
       "      <td>3.9</td>\n",
       "      <td>4.2</td>\n",
       "      <td>13</td>\n",
       "      <td>523</td>\n",
       "      <td>31</td>\n",
       "      <td>240</td>\n",
       "      <td>15</td>\n",
       "      <td>32354</td>\n",
       "      <td>0</td>\n",
       "      <td>0</td>\n",
       "      <td>1</td>\n",
       "    </tr>\n",
       "    <tr>\n",
       "      <th>101529</th>\n",
       "      <td>51</td>\n",
       "      <td>3.9</td>\n",
       "      <td>4.2</td>\n",
       "      <td>13</td>\n",
       "      <td>523</td>\n",
       "      <td>31</td>\n",
       "      <td>240</td>\n",
       "      <td>15</td>\n",
       "      <td>33226</td>\n",
       "      <td>21</td>\n",
       "      <td>0</td>\n",
       "      <td>1</td>\n",
       "    </tr>\n",
       "  </tbody>\n",
       "</table>\n",
       "<p>101530 rows × 12 columns</p>\n",
       "</div>"
      ],
      "text/plain": [
       "        Restaurant Name  Dining Rating  Delivery Rating  Dining Votes  \\\n",
       "0                   207            3.9              4.2            39   \n",
       "1                   207            3.9              4.2            39   \n",
       "2                   207            3.9              4.2            39   \n",
       "3                   207            3.9              4.2            39   \n",
       "4                   207            3.9              4.2            39   \n",
       "...                 ...            ...              ...           ...   \n",
       "101525               51            3.9              4.2            13   \n",
       "101526               51            3.9              4.2            13   \n",
       "101527               51            3.9              4.2            13   \n",
       "101528               51            3.9              4.2            13   \n",
       "101529               51            3.9              4.2            13   \n",
       "\n",
       "        Delivery Votes  Cuisine   Place Name  City  Item Name  Votes  \\\n",
       "0                    0        12         184     5      41530     84   \n",
       "1                    0        12         184     5      12242     45   \n",
       "2                    0        12         184     5      12837     39   \n",
       "3                    0        12         184     5       9249     43   \n",
       "4                    0        12         184     5      46959     31   \n",
       "...                ...       ...         ...   ...        ...    ...   \n",
       "101525             523        31         240    15      22353      0   \n",
       "101526             523        31         240    15       5618      0   \n",
       "101527             523        31         240    15      32393      0   \n",
       "101528             523        31         240    15      32354      0   \n",
       "101529             523        31         240    15      33226     21   \n",
       "\n",
       "       Original Price Average Price  \n",
       "0                   1             0  \n",
       "1                   0             0  \n",
       "2                   0             0  \n",
       "3                   0             0  \n",
       "4                   1             0  \n",
       "...               ...           ...  \n",
       "101525              0             1  \n",
       "101526              0             1  \n",
       "101527              0             1  \n",
       "101528              0             1  \n",
       "101529              0             1  \n",
       "\n",
       "[101530 rows x 12 columns]"
      ]
     },
     "execution_count": 27,
     "metadata": {},
     "output_type": "execute_result"
    }
   ],
   "source": [
    "\n",
    "columns_to_encode=[\"City\",\"Restaurant Name\",\"Cuisine \",\"Place Name\",\"Item Name\"]\n",
    "coder=LabelEncoder()\n",
    "for column in columns_to_encode:\n",
    "    zmt1[column]=coder.fit_transform(zmt1[column])\n",
    "zmt1"
   ]
  },
  {
   "cell_type": "markdown",
   "id": "dbc3700e",
   "metadata": {},
   "source": [
    "# information of the data"
   ]
  },
  {
   "cell_type": "code",
   "execution_count": 28,
   "id": "e576cce3",
   "metadata": {},
   "outputs": [
    {
     "name": "stdout",
     "output_type": "stream",
     "text": [
      "<class 'pandas.core.frame.DataFrame'>\n",
      "Int64Index: 101530 entries, 0 to 101529\n",
      "Data columns (total 12 columns):\n",
      " #   Column           Non-Null Count   Dtype   \n",
      "---  ------           --------------   -----   \n",
      " 0   Restaurant Name  101530 non-null  int32   \n",
      " 1   Dining Rating    101530 non-null  float64 \n",
      " 2   Delivery Rating  101530 non-null  float64 \n",
      " 3   Dining Votes     101530 non-null  int64   \n",
      " 4   Delivery Votes   101530 non-null  int64   \n",
      " 5   Cuisine          101530 non-null  int32   \n",
      " 6   Place Name       101530 non-null  int32   \n",
      " 7   City             101530 non-null  int32   \n",
      " 8   Item Name        101530 non-null  int32   \n",
      " 9   Votes            101530 non-null  int64   \n",
      " 10  Original Price   101530 non-null  category\n",
      " 11  Average Price    101530 non-null  category\n",
      "dtypes: category(2), float64(2), int32(5), int64(3)\n",
      "memory usage: 6.8 MB\n"
     ]
    }
   ],
   "source": [
    "zmt1.info()"
   ]
  },
  {
   "cell_type": "markdown",
   "id": "127f304e",
   "metadata": {},
   "source": [
    "# taking X and target "
   ]
  },
  {
   "cell_type": "code",
   "execution_count": 29,
   "id": "2c0ff8f3",
   "metadata": {},
   "outputs": [],
   "source": [
    "X=zmt1[['Restaurant Name','Dining Rating','Delivery Rating','Dining Votes','Cuisine ','Place Name','City','Original Price']]\n",
    "target=zmt1['Average Price'] \n"
   ]
  },
  {
   "cell_type": "markdown",
   "id": "259faef1",
   "metadata": {},
   "source": [
    "# Random Forest Classifier model is trained on the 'X' features and 'target' labels"
   ]
  },
  {
   "cell_type": "code",
   "execution_count": 30,
   "id": "86bdbfa1",
   "metadata": {},
   "outputs": [
    {
     "data": {
      "text/html": [
       "<style>#sk-container-id-1 {color: black;background-color: white;}#sk-container-id-1 pre{padding: 0;}#sk-container-id-1 div.sk-toggleable {background-color: white;}#sk-container-id-1 label.sk-toggleable__label {cursor: pointer;display: block;width: 100%;margin-bottom: 0;padding: 0.3em;box-sizing: border-box;text-align: center;}#sk-container-id-1 label.sk-toggleable__label-arrow:before {content: \"▸\";float: left;margin-right: 0.25em;color: #696969;}#sk-container-id-1 label.sk-toggleable__label-arrow:hover:before {color: black;}#sk-container-id-1 div.sk-estimator:hover label.sk-toggleable__label-arrow:before {color: black;}#sk-container-id-1 div.sk-toggleable__content {max-height: 0;max-width: 0;overflow: hidden;text-align: left;background-color: #f0f8ff;}#sk-container-id-1 div.sk-toggleable__content pre {margin: 0.2em;color: black;border-radius: 0.25em;background-color: #f0f8ff;}#sk-container-id-1 input.sk-toggleable__control:checked~div.sk-toggleable__content {max-height: 200px;max-width: 100%;overflow: auto;}#sk-container-id-1 input.sk-toggleable__control:checked~label.sk-toggleable__label-arrow:before {content: \"▾\";}#sk-container-id-1 div.sk-estimator input.sk-toggleable__control:checked~label.sk-toggleable__label {background-color: #d4ebff;}#sk-container-id-1 div.sk-label input.sk-toggleable__control:checked~label.sk-toggleable__label {background-color: #d4ebff;}#sk-container-id-1 input.sk-hidden--visually {border: 0;clip: rect(1px 1px 1px 1px);clip: rect(1px, 1px, 1px, 1px);height: 1px;margin: -1px;overflow: hidden;padding: 0;position: absolute;width: 1px;}#sk-container-id-1 div.sk-estimator {font-family: monospace;background-color: #f0f8ff;border: 1px dotted black;border-radius: 0.25em;box-sizing: border-box;margin-bottom: 0.5em;}#sk-container-id-1 div.sk-estimator:hover {background-color: #d4ebff;}#sk-container-id-1 div.sk-parallel-item::after {content: \"\";width: 100%;border-bottom: 1px solid gray;flex-grow: 1;}#sk-container-id-1 div.sk-label:hover label.sk-toggleable__label {background-color: #d4ebff;}#sk-container-id-1 div.sk-serial::before {content: \"\";position: absolute;border-left: 1px solid gray;box-sizing: border-box;top: 0;bottom: 0;left: 50%;z-index: 0;}#sk-container-id-1 div.sk-serial {display: flex;flex-direction: column;align-items: center;background-color: white;padding-right: 0.2em;padding-left: 0.2em;position: relative;}#sk-container-id-1 div.sk-item {position: relative;z-index: 1;}#sk-container-id-1 div.sk-parallel {display: flex;align-items: stretch;justify-content: center;background-color: white;position: relative;}#sk-container-id-1 div.sk-item::before, #sk-container-id-1 div.sk-parallel-item::before {content: \"\";position: absolute;border-left: 1px solid gray;box-sizing: border-box;top: 0;bottom: 0;left: 50%;z-index: -1;}#sk-container-id-1 div.sk-parallel-item {display: flex;flex-direction: column;z-index: 1;position: relative;background-color: white;}#sk-container-id-1 div.sk-parallel-item:first-child::after {align-self: flex-end;width: 50%;}#sk-container-id-1 div.sk-parallel-item:last-child::after {align-self: flex-start;width: 50%;}#sk-container-id-1 div.sk-parallel-item:only-child::after {width: 0;}#sk-container-id-1 div.sk-dashed-wrapped {border: 1px dashed gray;margin: 0 0.4em 0.5em 0.4em;box-sizing: border-box;padding-bottom: 0.4em;background-color: white;}#sk-container-id-1 div.sk-label label {font-family: monospace;font-weight: bold;display: inline-block;line-height: 1.2em;}#sk-container-id-1 div.sk-label-container {text-align: center;}#sk-container-id-1 div.sk-container {/* jupyter's `normalize.less` sets `[hidden] { display: none; }` but bootstrap.min.css set `[hidden] { display: none !important; }` so we also need the `!important` here to be able to override the default hidden behavior on the sphinx rendered scikit-learn.org. See: https://github.com/scikit-learn/scikit-learn/issues/21755 */display: inline-block !important;position: relative;}#sk-container-id-1 div.sk-text-repr-fallback {display: none;}</style><div id=\"sk-container-id-1\" class=\"sk-top-container\"><div class=\"sk-text-repr-fallback\"><pre>RandomForestClassifier(random_state=42)</pre><b>In a Jupyter environment, please rerun this cell to show the HTML representation or trust the notebook. <br />On GitHub, the HTML representation is unable to render, please try loading this page with nbviewer.org.</b></div><div class=\"sk-container\" hidden><div class=\"sk-item\"><div class=\"sk-estimator sk-toggleable\"><input class=\"sk-toggleable__control sk-hidden--visually\" id=\"sk-estimator-id-1\" type=\"checkbox\" checked><label for=\"sk-estimator-id-1\" class=\"sk-toggleable__label sk-toggleable__label-arrow\">RandomForestClassifier</label><div class=\"sk-toggleable__content\"><pre>RandomForestClassifier(random_state=42)</pre></div></div></div></div></div>"
      ],
      "text/plain": [
       "RandomForestClassifier(random_state=42)"
      ]
     },
     "execution_count": 30,
     "metadata": {},
     "output_type": "execute_result"
    }
   ],
   "source": [
    "model = RandomForestClassifier(n_estimators=100, random_state=42)\n",
    "model.fit(X, target)"
   ]
  },
  {
   "cell_type": "markdown",
   "id": "9c0f1f17",
   "metadata": {},
   "source": [
    "# splitting the data into training and testing"
   ]
  },
  {
   "cell_type": "code",
   "execution_count": 31,
   "id": "3ca8c843",
   "metadata": {},
   "outputs": [],
   "source": [
    "X_train, X_test, y_train, y_test = train_test_split(X, target, test_size=0.2, random_state=42)"
   ]
  },
  {
   "cell_type": "markdown",
   "id": "b5e27d5a",
   "metadata": {},
   "source": [
    "# trains the machine learning model "
   ]
  },
  {
   "cell_type": "code",
   "execution_count": 32,
   "id": "f595a643",
   "metadata": {},
   "outputs": [
    {
     "data": {
      "text/html": [
       "<style>#sk-container-id-2 {color: black;background-color: white;}#sk-container-id-2 pre{padding: 0;}#sk-container-id-2 div.sk-toggleable {background-color: white;}#sk-container-id-2 label.sk-toggleable__label {cursor: pointer;display: block;width: 100%;margin-bottom: 0;padding: 0.3em;box-sizing: border-box;text-align: center;}#sk-container-id-2 label.sk-toggleable__label-arrow:before {content: \"▸\";float: left;margin-right: 0.25em;color: #696969;}#sk-container-id-2 label.sk-toggleable__label-arrow:hover:before {color: black;}#sk-container-id-2 div.sk-estimator:hover label.sk-toggleable__label-arrow:before {color: black;}#sk-container-id-2 div.sk-toggleable__content {max-height: 0;max-width: 0;overflow: hidden;text-align: left;background-color: #f0f8ff;}#sk-container-id-2 div.sk-toggleable__content pre {margin: 0.2em;color: black;border-radius: 0.25em;background-color: #f0f8ff;}#sk-container-id-2 input.sk-toggleable__control:checked~div.sk-toggleable__content {max-height: 200px;max-width: 100%;overflow: auto;}#sk-container-id-2 input.sk-toggleable__control:checked~label.sk-toggleable__label-arrow:before {content: \"▾\";}#sk-container-id-2 div.sk-estimator input.sk-toggleable__control:checked~label.sk-toggleable__label {background-color: #d4ebff;}#sk-container-id-2 div.sk-label input.sk-toggleable__control:checked~label.sk-toggleable__label {background-color: #d4ebff;}#sk-container-id-2 input.sk-hidden--visually {border: 0;clip: rect(1px 1px 1px 1px);clip: rect(1px, 1px, 1px, 1px);height: 1px;margin: -1px;overflow: hidden;padding: 0;position: absolute;width: 1px;}#sk-container-id-2 div.sk-estimator {font-family: monospace;background-color: #f0f8ff;border: 1px dotted black;border-radius: 0.25em;box-sizing: border-box;margin-bottom: 0.5em;}#sk-container-id-2 div.sk-estimator:hover {background-color: #d4ebff;}#sk-container-id-2 div.sk-parallel-item::after {content: \"\";width: 100%;border-bottom: 1px solid gray;flex-grow: 1;}#sk-container-id-2 div.sk-label:hover label.sk-toggleable__label {background-color: #d4ebff;}#sk-container-id-2 div.sk-serial::before {content: \"\";position: absolute;border-left: 1px solid gray;box-sizing: border-box;top: 0;bottom: 0;left: 50%;z-index: 0;}#sk-container-id-2 div.sk-serial {display: flex;flex-direction: column;align-items: center;background-color: white;padding-right: 0.2em;padding-left: 0.2em;position: relative;}#sk-container-id-2 div.sk-item {position: relative;z-index: 1;}#sk-container-id-2 div.sk-parallel {display: flex;align-items: stretch;justify-content: center;background-color: white;position: relative;}#sk-container-id-2 div.sk-item::before, #sk-container-id-2 div.sk-parallel-item::before {content: \"\";position: absolute;border-left: 1px solid gray;box-sizing: border-box;top: 0;bottom: 0;left: 50%;z-index: -1;}#sk-container-id-2 div.sk-parallel-item {display: flex;flex-direction: column;z-index: 1;position: relative;background-color: white;}#sk-container-id-2 div.sk-parallel-item:first-child::after {align-self: flex-end;width: 50%;}#sk-container-id-2 div.sk-parallel-item:last-child::after {align-self: flex-start;width: 50%;}#sk-container-id-2 div.sk-parallel-item:only-child::after {width: 0;}#sk-container-id-2 div.sk-dashed-wrapped {border: 1px dashed gray;margin: 0 0.4em 0.5em 0.4em;box-sizing: border-box;padding-bottom: 0.4em;background-color: white;}#sk-container-id-2 div.sk-label label {font-family: monospace;font-weight: bold;display: inline-block;line-height: 1.2em;}#sk-container-id-2 div.sk-label-container {text-align: center;}#sk-container-id-2 div.sk-container {/* jupyter's `normalize.less` sets `[hidden] { display: none; }` but bootstrap.min.css set `[hidden] { display: none !important; }` so we also need the `!important` here to be able to override the default hidden behavior on the sphinx rendered scikit-learn.org. See: https://github.com/scikit-learn/scikit-learn/issues/21755 */display: inline-block !important;position: relative;}#sk-container-id-2 div.sk-text-repr-fallback {display: none;}</style><div id=\"sk-container-id-2\" class=\"sk-top-container\"><div class=\"sk-text-repr-fallback\"><pre>RandomForestClassifier(random_state=42)</pre><b>In a Jupyter environment, please rerun this cell to show the HTML representation or trust the notebook. <br />On GitHub, the HTML representation is unable to render, please try loading this page with nbviewer.org.</b></div><div class=\"sk-container\" hidden><div class=\"sk-item\"><div class=\"sk-estimator sk-toggleable\"><input class=\"sk-toggleable__control sk-hidden--visually\" id=\"sk-estimator-id-2\" type=\"checkbox\" checked><label for=\"sk-estimator-id-2\" class=\"sk-toggleable__label sk-toggleable__label-arrow\">RandomForestClassifier</label><div class=\"sk-toggleable__content\"><pre>RandomForestClassifier(random_state=42)</pre></div></div></div></div></div>"
      ],
      "text/plain": [
       "RandomForestClassifier(random_state=42)"
      ]
     },
     "execution_count": 32,
     "metadata": {},
     "output_type": "execute_result"
    }
   ],
   "source": [
    "model.fit(X_train, y_train)"
   ]
  },
  {
   "cell_type": "markdown",
   "id": "01fef596",
   "metadata": {},
   "source": [
    "# Predict on test set"
   ]
  },
  {
   "cell_type": "code",
   "execution_count": 33,
   "id": "fd152678",
   "metadata": {},
   "outputs": [],
   "source": [
    "y_pred = model.predict(X_test)"
   ]
  },
  {
   "cell_type": "markdown",
   "id": "4ad0f7e3",
   "metadata": {},
   "source": [
    "# Evaluate accuracy"
   ]
  },
  {
   "cell_type": "code",
   "execution_count": 34,
   "id": "a25b6a85",
   "metadata": {},
   "outputs": [
    {
     "data": {
      "text/plain": [
       "99.99"
      ]
     },
     "execution_count": 34,
     "metadata": {},
     "output_type": "execute_result"
    }
   ],
   "source": [
    "score_rf= round(accuracy_score(y_test, y_pred)*100,2)\n",
    "score_rf"
   ]
  },
  {
   "cell_type": "markdown",
   "id": "ff6c6282",
   "metadata": {},
   "source": [
    "# More detailed classification report"
   ]
  },
  {
   "cell_type": "code",
   "execution_count": 35,
   "id": "f9425b41",
   "metadata": {},
   "outputs": [
    {
     "name": "stdout",
     "output_type": "stream",
     "text": [
      "              precision    recall  f1-score   support\n",
      "\n",
      "           0       1.00      1.00      1.00      6865\n",
      "           1       1.00      1.00      1.00     12998\n",
      "           2       1.00      1.00      1.00       443\n",
      "\n",
      "    accuracy                           1.00     20306\n",
      "   macro avg       1.00      1.00      1.00     20306\n",
      "weighted avg       1.00      1.00      1.00     20306\n",
      "\n"
     ]
    }
   ],
   "source": [
    "report = classification_report(y_test, y_pred)\n",
    "print(report)"
   ]
  },
  {
   "cell_type": "markdown",
   "id": "d4ba56f7",
   "metadata": {},
   "source": [
    "# displaying the output"
   ]
  },
  {
   "cell_type": "code",
   "execution_count": 36,
   "id": "b8454689",
   "metadata": {},
   "outputs": [
    {
     "data": {
      "text/html": [
       "<div>\n",
       "<style scoped>\n",
       "    .dataframe tbody tr th:only-of-type {\n",
       "        vertical-align: middle;\n",
       "    }\n",
       "\n",
       "    .dataframe tbody tr th {\n",
       "        vertical-align: top;\n",
       "    }\n",
       "\n",
       "    .dataframe thead th {\n",
       "        text-align: right;\n",
       "    }\n",
       "</style>\n",
       "<table border=\"1\" class=\"dataframe\">\n",
       "  <thead>\n",
       "    <tr style=\"text-align: right;\">\n",
       "      <th></th>\n",
       "      <th>Row</th>\n",
       "      <th>Actual</th>\n",
       "      <th>Predicted</th>\n",
       "    </tr>\n",
       "  </thead>\n",
       "  <tbody>\n",
       "    <tr>\n",
       "      <th>90727</th>\n",
       "      <td>1</td>\n",
       "      <td>0</td>\n",
       "      <td>0</td>\n",
       "    </tr>\n",
       "    <tr>\n",
       "      <th>1938</th>\n",
       "      <td>2</td>\n",
       "      <td>0</td>\n",
       "      <td>0</td>\n",
       "    </tr>\n",
       "    <tr>\n",
       "      <th>77967</th>\n",
       "      <td>3</td>\n",
       "      <td>0</td>\n",
       "      <td>0</td>\n",
       "    </tr>\n",
       "    <tr>\n",
       "      <th>41236</th>\n",
       "      <td>4</td>\n",
       "      <td>1</td>\n",
       "      <td>1</td>\n",
       "    </tr>\n",
       "    <tr>\n",
       "      <th>81911</th>\n",
       "      <td>5</td>\n",
       "      <td>1</td>\n",
       "      <td>1</td>\n",
       "    </tr>\n",
       "    <tr>\n",
       "      <th>...</th>\n",
       "      <td>...</td>\n",
       "      <td>...</td>\n",
       "      <td>...</td>\n",
       "    </tr>\n",
       "    <tr>\n",
       "      <th>18938</th>\n",
       "      <td>20302</td>\n",
       "      <td>1</td>\n",
       "      <td>1</td>\n",
       "    </tr>\n",
       "    <tr>\n",
       "      <th>49125</th>\n",
       "      <td>20303</td>\n",
       "      <td>1</td>\n",
       "      <td>1</td>\n",
       "    </tr>\n",
       "    <tr>\n",
       "      <th>33675</th>\n",
       "      <td>20304</td>\n",
       "      <td>1</td>\n",
       "      <td>1</td>\n",
       "    </tr>\n",
       "    <tr>\n",
       "      <th>94839</th>\n",
       "      <td>20305</td>\n",
       "      <td>1</td>\n",
       "      <td>1</td>\n",
       "    </tr>\n",
       "    <tr>\n",
       "      <th>63488</th>\n",
       "      <td>20306</td>\n",
       "      <td>1</td>\n",
       "      <td>1</td>\n",
       "    </tr>\n",
       "  </tbody>\n",
       "</table>\n",
       "<p>20306 rows × 3 columns</p>\n",
       "</div>"
      ],
      "text/plain": [
       "         Row Actual  Predicted\n",
       "90727      1      0          0\n",
       "1938       2      0          0\n",
       "77967      3      0          0\n",
       "41236      4      1          1\n",
       "81911      5      1          1\n",
       "...      ...    ...        ...\n",
       "18938  20302      1          1\n",
       "49125  20303      1          1\n",
       "33675  20304      1          1\n",
       "94839  20305      1          1\n",
       "63488  20306      1          1\n",
       "\n",
       "[20306 rows x 3 columns]"
      ]
     },
     "execution_count": 36,
     "metadata": {},
     "output_type": "execute_result"
    }
   ],
   "source": [
    "result_df = pd.DataFrame({'Row': range(1, len(y_test) + 1), 'Actual': y_test, 'Predicted': y_pred})\n",
    "result_df"
   ]
  },
  {
   "cell_type": "markdown",
   "id": "764745ec",
   "metadata": {},
   "source": [
    "# displaying confusion matrix"
   ]
  },
  {
   "cell_type": "code",
   "execution_count": 37,
   "id": "ab912c33",
   "metadata": {},
   "outputs": [
    {
     "data": {
      "text/plain": [
       "array([[ 6862,     3,     0],\n",
       "       [    0, 12998,     0],\n",
       "       [    0,     0,   443]], dtype=int64)"
      ]
     },
     "execution_count": 37,
     "metadata": {},
     "output_type": "execute_result"
    }
   ],
   "source": [
    "cm=confusion_matrix(y_test,y_pred)\n",
    "cm"
   ]
  },
  {
   "cell_type": "code",
   "execution_count": null,
   "id": "e34e580a",
   "metadata": {},
   "outputs": [],
   "source": []
  },
  {
   "cell_type": "code",
   "execution_count": null,
   "id": "61d570ee",
   "metadata": {},
   "outputs": [],
   "source": []
  },
  {
   "cell_type": "code",
   "execution_count": null,
   "id": "6d4c7187",
   "metadata": {},
   "outputs": [],
   "source": []
  },
  {
   "cell_type": "markdown",
   "id": "ec6a3ee8",
   "metadata": {},
   "source": [
    "# linear regression\n"
   ]
  },
  {
   "cell_type": "code",
   "execution_count": 38,
   "id": "ba6ea795",
   "metadata": {},
   "outputs": [
    {
     "data": {
      "text/html": [
       "<style>#sk-container-id-3 {color: black;background-color: white;}#sk-container-id-3 pre{padding: 0;}#sk-container-id-3 div.sk-toggleable {background-color: white;}#sk-container-id-3 label.sk-toggleable__label {cursor: pointer;display: block;width: 100%;margin-bottom: 0;padding: 0.3em;box-sizing: border-box;text-align: center;}#sk-container-id-3 label.sk-toggleable__label-arrow:before {content: \"▸\";float: left;margin-right: 0.25em;color: #696969;}#sk-container-id-3 label.sk-toggleable__label-arrow:hover:before {color: black;}#sk-container-id-3 div.sk-estimator:hover label.sk-toggleable__label-arrow:before {color: black;}#sk-container-id-3 div.sk-toggleable__content {max-height: 0;max-width: 0;overflow: hidden;text-align: left;background-color: #f0f8ff;}#sk-container-id-3 div.sk-toggleable__content pre {margin: 0.2em;color: black;border-radius: 0.25em;background-color: #f0f8ff;}#sk-container-id-3 input.sk-toggleable__control:checked~div.sk-toggleable__content {max-height: 200px;max-width: 100%;overflow: auto;}#sk-container-id-3 input.sk-toggleable__control:checked~label.sk-toggleable__label-arrow:before {content: \"▾\";}#sk-container-id-3 div.sk-estimator input.sk-toggleable__control:checked~label.sk-toggleable__label {background-color: #d4ebff;}#sk-container-id-3 div.sk-label input.sk-toggleable__control:checked~label.sk-toggleable__label {background-color: #d4ebff;}#sk-container-id-3 input.sk-hidden--visually {border: 0;clip: rect(1px 1px 1px 1px);clip: rect(1px, 1px, 1px, 1px);height: 1px;margin: -1px;overflow: hidden;padding: 0;position: absolute;width: 1px;}#sk-container-id-3 div.sk-estimator {font-family: monospace;background-color: #f0f8ff;border: 1px dotted black;border-radius: 0.25em;box-sizing: border-box;margin-bottom: 0.5em;}#sk-container-id-3 div.sk-estimator:hover {background-color: #d4ebff;}#sk-container-id-3 div.sk-parallel-item::after {content: \"\";width: 100%;border-bottom: 1px solid gray;flex-grow: 1;}#sk-container-id-3 div.sk-label:hover label.sk-toggleable__label {background-color: #d4ebff;}#sk-container-id-3 div.sk-serial::before {content: \"\";position: absolute;border-left: 1px solid gray;box-sizing: border-box;top: 0;bottom: 0;left: 50%;z-index: 0;}#sk-container-id-3 div.sk-serial {display: flex;flex-direction: column;align-items: center;background-color: white;padding-right: 0.2em;padding-left: 0.2em;position: relative;}#sk-container-id-3 div.sk-item {position: relative;z-index: 1;}#sk-container-id-3 div.sk-parallel {display: flex;align-items: stretch;justify-content: center;background-color: white;position: relative;}#sk-container-id-3 div.sk-item::before, #sk-container-id-3 div.sk-parallel-item::before {content: \"\";position: absolute;border-left: 1px solid gray;box-sizing: border-box;top: 0;bottom: 0;left: 50%;z-index: -1;}#sk-container-id-3 div.sk-parallel-item {display: flex;flex-direction: column;z-index: 1;position: relative;background-color: white;}#sk-container-id-3 div.sk-parallel-item:first-child::after {align-self: flex-end;width: 50%;}#sk-container-id-3 div.sk-parallel-item:last-child::after {align-self: flex-start;width: 50%;}#sk-container-id-3 div.sk-parallel-item:only-child::after {width: 0;}#sk-container-id-3 div.sk-dashed-wrapped {border: 1px dashed gray;margin: 0 0.4em 0.5em 0.4em;box-sizing: border-box;padding-bottom: 0.4em;background-color: white;}#sk-container-id-3 div.sk-label label {font-family: monospace;font-weight: bold;display: inline-block;line-height: 1.2em;}#sk-container-id-3 div.sk-label-container {text-align: center;}#sk-container-id-3 div.sk-container {/* jupyter's `normalize.less` sets `[hidden] { display: none; }` but bootstrap.min.css set `[hidden] { display: none !important; }` so we also need the `!important` here to be able to override the default hidden behavior on the sphinx rendered scikit-learn.org. See: https://github.com/scikit-learn/scikit-learn/issues/21755 */display: inline-block !important;position: relative;}#sk-container-id-3 div.sk-text-repr-fallback {display: none;}</style><div id=\"sk-container-id-3\" class=\"sk-top-container\"><div class=\"sk-text-repr-fallback\"><pre>LinearRegression()</pre><b>In a Jupyter environment, please rerun this cell to show the HTML representation or trust the notebook. <br />On GitHub, the HTML representation is unable to render, please try loading this page with nbviewer.org.</b></div><div class=\"sk-container\" hidden><div class=\"sk-item\"><div class=\"sk-estimator sk-toggleable\"><input class=\"sk-toggleable__control sk-hidden--visually\" id=\"sk-estimator-id-3\" type=\"checkbox\" checked><label for=\"sk-estimator-id-3\" class=\"sk-toggleable__label sk-toggleable__label-arrow\">LinearRegression</label><div class=\"sk-toggleable__content\"><pre>LinearRegression()</pre></div></div></div></div></div>"
      ],
      "text/plain": [
       "LinearRegression()"
      ]
     },
     "execution_count": 38,
     "metadata": {},
     "output_type": "execute_result"
    }
   ],
   "source": [
    "lr_model=LinearRegression()\n",
    "lr_model.fit(X_train,y_train)"
   ]
  },
  {
   "cell_type": "code",
   "execution_count": 39,
   "id": "401a79a8",
   "metadata": {},
   "outputs": [
    {
     "data": {
      "text/plain": [
       "23.69"
      ]
     },
     "execution_count": 39,
     "metadata": {},
     "output_type": "execute_result"
    }
   ],
   "source": [
    "y_pred1=lr_model.predict(X_test)\n",
    "score_lr=round(r2_score(y_test,y_pred1)*100,2)\n",
    "score_lr"
   ]
  },
  {
   "cell_type": "markdown",
   "id": "fb6a6556",
   "metadata": {},
   "source": [
    "# decision tree\n"
   ]
  },
  {
   "cell_type": "code",
   "execution_count": 40,
   "id": "94a1e7a2",
   "metadata": {},
   "outputs": [
    {
     "data": {
      "text/html": [
       "<style>#sk-container-id-4 {color: black;background-color: white;}#sk-container-id-4 pre{padding: 0;}#sk-container-id-4 div.sk-toggleable {background-color: white;}#sk-container-id-4 label.sk-toggleable__label {cursor: pointer;display: block;width: 100%;margin-bottom: 0;padding: 0.3em;box-sizing: border-box;text-align: center;}#sk-container-id-4 label.sk-toggleable__label-arrow:before {content: \"▸\";float: left;margin-right: 0.25em;color: #696969;}#sk-container-id-4 label.sk-toggleable__label-arrow:hover:before {color: black;}#sk-container-id-4 div.sk-estimator:hover label.sk-toggleable__label-arrow:before {color: black;}#sk-container-id-4 div.sk-toggleable__content {max-height: 0;max-width: 0;overflow: hidden;text-align: left;background-color: #f0f8ff;}#sk-container-id-4 div.sk-toggleable__content pre {margin: 0.2em;color: black;border-radius: 0.25em;background-color: #f0f8ff;}#sk-container-id-4 input.sk-toggleable__control:checked~div.sk-toggleable__content {max-height: 200px;max-width: 100%;overflow: auto;}#sk-container-id-4 input.sk-toggleable__control:checked~label.sk-toggleable__label-arrow:before {content: \"▾\";}#sk-container-id-4 div.sk-estimator input.sk-toggleable__control:checked~label.sk-toggleable__label {background-color: #d4ebff;}#sk-container-id-4 div.sk-label input.sk-toggleable__control:checked~label.sk-toggleable__label {background-color: #d4ebff;}#sk-container-id-4 input.sk-hidden--visually {border: 0;clip: rect(1px 1px 1px 1px);clip: rect(1px, 1px, 1px, 1px);height: 1px;margin: -1px;overflow: hidden;padding: 0;position: absolute;width: 1px;}#sk-container-id-4 div.sk-estimator {font-family: monospace;background-color: #f0f8ff;border: 1px dotted black;border-radius: 0.25em;box-sizing: border-box;margin-bottom: 0.5em;}#sk-container-id-4 div.sk-estimator:hover {background-color: #d4ebff;}#sk-container-id-4 div.sk-parallel-item::after {content: \"\";width: 100%;border-bottom: 1px solid gray;flex-grow: 1;}#sk-container-id-4 div.sk-label:hover label.sk-toggleable__label {background-color: #d4ebff;}#sk-container-id-4 div.sk-serial::before {content: \"\";position: absolute;border-left: 1px solid gray;box-sizing: border-box;top: 0;bottom: 0;left: 50%;z-index: 0;}#sk-container-id-4 div.sk-serial {display: flex;flex-direction: column;align-items: center;background-color: white;padding-right: 0.2em;padding-left: 0.2em;position: relative;}#sk-container-id-4 div.sk-item {position: relative;z-index: 1;}#sk-container-id-4 div.sk-parallel {display: flex;align-items: stretch;justify-content: center;background-color: white;position: relative;}#sk-container-id-4 div.sk-item::before, #sk-container-id-4 div.sk-parallel-item::before {content: \"\";position: absolute;border-left: 1px solid gray;box-sizing: border-box;top: 0;bottom: 0;left: 50%;z-index: -1;}#sk-container-id-4 div.sk-parallel-item {display: flex;flex-direction: column;z-index: 1;position: relative;background-color: white;}#sk-container-id-4 div.sk-parallel-item:first-child::after {align-self: flex-end;width: 50%;}#sk-container-id-4 div.sk-parallel-item:last-child::after {align-self: flex-start;width: 50%;}#sk-container-id-4 div.sk-parallel-item:only-child::after {width: 0;}#sk-container-id-4 div.sk-dashed-wrapped {border: 1px dashed gray;margin: 0 0.4em 0.5em 0.4em;box-sizing: border-box;padding-bottom: 0.4em;background-color: white;}#sk-container-id-4 div.sk-label label {font-family: monospace;font-weight: bold;display: inline-block;line-height: 1.2em;}#sk-container-id-4 div.sk-label-container {text-align: center;}#sk-container-id-4 div.sk-container {/* jupyter's `normalize.less` sets `[hidden] { display: none; }` but bootstrap.min.css set `[hidden] { display: none !important; }` so we also need the `!important` here to be able to override the default hidden behavior on the sphinx rendered scikit-learn.org. See: https://github.com/scikit-learn/scikit-learn/issues/21755 */display: inline-block !important;position: relative;}#sk-container-id-4 div.sk-text-repr-fallback {display: none;}</style><div id=\"sk-container-id-4\" class=\"sk-top-container\"><div class=\"sk-text-repr-fallback\"><pre>DecisionTreeRegressor(min_samples_leaf=0.0001)</pre><b>In a Jupyter environment, please rerun this cell to show the HTML representation or trust the notebook. <br />On GitHub, the HTML representation is unable to render, please try loading this page with nbviewer.org.</b></div><div class=\"sk-container\" hidden><div class=\"sk-item\"><div class=\"sk-estimator sk-toggleable\"><input class=\"sk-toggleable__control sk-hidden--visually\" id=\"sk-estimator-id-4\" type=\"checkbox\" checked><label for=\"sk-estimator-id-4\" class=\"sk-toggleable__label sk-toggleable__label-arrow\">DecisionTreeRegressor</label><div class=\"sk-toggleable__content\"><pre>DecisionTreeRegressor(min_samples_leaf=0.0001)</pre></div></div></div></div></div>"
      ],
      "text/plain": [
       "DecisionTreeRegressor(min_samples_leaf=0.0001)"
      ]
     },
     "execution_count": 40,
     "metadata": {},
     "output_type": "execute_result"
    }
   ],
   "source": [
    "DTree=DecisionTreeRegressor(min_samples_leaf=.0001)\n",
    "DTree.fit(X_train,y_train)"
   ]
  },
  {
   "cell_type": "code",
   "execution_count": 41,
   "id": "a845c525",
   "metadata": {},
   "outputs": [],
   "source": [
    "\n",
    "y_pred2=DTree.predict(X_test)"
   ]
  },
  {
   "cell_type": "code",
   "execution_count": 42,
   "id": "9536d09c",
   "metadata": {},
   "outputs": [
    {
     "data": {
      "text/plain": [
       "97.99"
      ]
     },
     "execution_count": 42,
     "metadata": {},
     "output_type": "execute_result"
    }
   ],
   "source": [
    "\n",
    "score_dtr=round(r2_score(y_test,y_pred2)*100,2)\n",
    "score_dtr"
   ]
  },
  {
   "cell_type": "markdown",
   "id": "2b024489",
   "metadata": {},
   "source": [
    "# extra tree regressor"
   ]
  },
  {
   "cell_type": "code",
   "execution_count": 43,
   "id": "aa58372c",
   "metadata": {},
   "outputs": [
    {
     "data": {
      "text/html": [
       "<style>#sk-container-id-5 {color: black;background-color: white;}#sk-container-id-5 pre{padding: 0;}#sk-container-id-5 div.sk-toggleable {background-color: white;}#sk-container-id-5 label.sk-toggleable__label {cursor: pointer;display: block;width: 100%;margin-bottom: 0;padding: 0.3em;box-sizing: border-box;text-align: center;}#sk-container-id-5 label.sk-toggleable__label-arrow:before {content: \"▸\";float: left;margin-right: 0.25em;color: #696969;}#sk-container-id-5 label.sk-toggleable__label-arrow:hover:before {color: black;}#sk-container-id-5 div.sk-estimator:hover label.sk-toggleable__label-arrow:before {color: black;}#sk-container-id-5 div.sk-toggleable__content {max-height: 0;max-width: 0;overflow: hidden;text-align: left;background-color: #f0f8ff;}#sk-container-id-5 div.sk-toggleable__content pre {margin: 0.2em;color: black;border-radius: 0.25em;background-color: #f0f8ff;}#sk-container-id-5 input.sk-toggleable__control:checked~div.sk-toggleable__content {max-height: 200px;max-width: 100%;overflow: auto;}#sk-container-id-5 input.sk-toggleable__control:checked~label.sk-toggleable__label-arrow:before {content: \"▾\";}#sk-container-id-5 div.sk-estimator input.sk-toggleable__control:checked~label.sk-toggleable__label {background-color: #d4ebff;}#sk-container-id-5 div.sk-label input.sk-toggleable__control:checked~label.sk-toggleable__label {background-color: #d4ebff;}#sk-container-id-5 input.sk-hidden--visually {border: 0;clip: rect(1px 1px 1px 1px);clip: rect(1px, 1px, 1px, 1px);height: 1px;margin: -1px;overflow: hidden;padding: 0;position: absolute;width: 1px;}#sk-container-id-5 div.sk-estimator {font-family: monospace;background-color: #f0f8ff;border: 1px dotted black;border-radius: 0.25em;box-sizing: border-box;margin-bottom: 0.5em;}#sk-container-id-5 div.sk-estimator:hover {background-color: #d4ebff;}#sk-container-id-5 div.sk-parallel-item::after {content: \"\";width: 100%;border-bottom: 1px solid gray;flex-grow: 1;}#sk-container-id-5 div.sk-label:hover label.sk-toggleable__label {background-color: #d4ebff;}#sk-container-id-5 div.sk-serial::before {content: \"\";position: absolute;border-left: 1px solid gray;box-sizing: border-box;top: 0;bottom: 0;left: 50%;z-index: 0;}#sk-container-id-5 div.sk-serial {display: flex;flex-direction: column;align-items: center;background-color: white;padding-right: 0.2em;padding-left: 0.2em;position: relative;}#sk-container-id-5 div.sk-item {position: relative;z-index: 1;}#sk-container-id-5 div.sk-parallel {display: flex;align-items: stretch;justify-content: center;background-color: white;position: relative;}#sk-container-id-5 div.sk-item::before, #sk-container-id-5 div.sk-parallel-item::before {content: \"\";position: absolute;border-left: 1px solid gray;box-sizing: border-box;top: 0;bottom: 0;left: 50%;z-index: -1;}#sk-container-id-5 div.sk-parallel-item {display: flex;flex-direction: column;z-index: 1;position: relative;background-color: white;}#sk-container-id-5 div.sk-parallel-item:first-child::after {align-self: flex-end;width: 50%;}#sk-container-id-5 div.sk-parallel-item:last-child::after {align-self: flex-start;width: 50%;}#sk-container-id-5 div.sk-parallel-item:only-child::after {width: 0;}#sk-container-id-5 div.sk-dashed-wrapped {border: 1px dashed gray;margin: 0 0.4em 0.5em 0.4em;box-sizing: border-box;padding-bottom: 0.4em;background-color: white;}#sk-container-id-5 div.sk-label label {font-family: monospace;font-weight: bold;display: inline-block;line-height: 1.2em;}#sk-container-id-5 div.sk-label-container {text-align: center;}#sk-container-id-5 div.sk-container {/* jupyter's `normalize.less` sets `[hidden] { display: none; }` but bootstrap.min.css set `[hidden] { display: none !important; }` so we also need the `!important` here to be able to override the default hidden behavior on the sphinx rendered scikit-learn.org. See: https://github.com/scikit-learn/scikit-learn/issues/21755 */display: inline-block !important;position: relative;}#sk-container-id-5 div.sk-text-repr-fallback {display: none;}</style><div id=\"sk-container-id-5\" class=\"sk-top-container\"><div class=\"sk-text-repr-fallback\"><pre>ExtraTreesRegressor(n_estimators=120)</pre><b>In a Jupyter environment, please rerun this cell to show the HTML representation or trust the notebook. <br />On GitHub, the HTML representation is unable to render, please try loading this page with nbviewer.org.</b></div><div class=\"sk-container\" hidden><div class=\"sk-item\"><div class=\"sk-estimator sk-toggleable\"><input class=\"sk-toggleable__control sk-hidden--visually\" id=\"sk-estimator-id-5\" type=\"checkbox\" checked><label for=\"sk-estimator-id-5\" class=\"sk-toggleable__label sk-toggleable__label-arrow\">ExtraTreesRegressor</label><div class=\"sk-toggleable__content\"><pre>ExtraTreesRegressor(n_estimators=120)</pre></div></div></div></div></div>"
      ],
      "text/plain": [
       "ExtraTreesRegressor(n_estimators=120)"
      ]
     },
     "execution_count": 43,
     "metadata": {},
     "output_type": "execute_result"
    }
   ],
   "source": [
    "ET_Model=ExtraTreesRegressor(n_estimators = 120)\n",
    "ET_Model.fit(X_train,y_train)\n"
   ]
  },
  {
   "cell_type": "code",
   "execution_count": 44,
   "id": "c9c08519",
   "metadata": {},
   "outputs": [
    {
     "data": {
      "text/plain": [
       "99.84"
      ]
     },
     "execution_count": 44,
     "metadata": {},
     "output_type": "execute_result"
    }
   ],
   "source": [
    "\n",
    "y_pred3=ET_Model.predict(X_test)\n",
    "score_etr=round(r2_score(y_test,y_pred3)*100,2)\n",
    "score_etr"
   ]
  },
  {
   "cell_type": "markdown",
   "id": "c9558baf",
   "metadata": {},
   "source": [
    "# Analysis of the result"
   ]
  },
  {
   "cell_type": "code",
   "execution_count": 45,
   "id": "e2b3438b",
   "metadata": {},
   "outputs": [
    {
     "data": {
      "text/html": [
       "<div>\n",
       "<style scoped>\n",
       "    .dataframe tbody tr th:only-of-type {\n",
       "        vertical-align: middle;\n",
       "    }\n",
       "\n",
       "    .dataframe tbody tr th {\n",
       "        vertical-align: top;\n",
       "    }\n",
       "\n",
       "    .dataframe thead th {\n",
       "        text-align: right;\n",
       "    }\n",
       "</style>\n",
       "<table border=\"1\" class=\"dataframe\">\n",
       "  <thead>\n",
       "    <tr style=\"text-align: right;\">\n",
       "      <th></th>\n",
       "      <th>Model</th>\n",
       "      <th>Score</th>\n",
       "    </tr>\n",
       "  </thead>\n",
       "  <tbody>\n",
       "    <tr>\n",
       "      <th>0</th>\n",
       "      <td>Random Forest Regressor</td>\n",
       "      <td>99.99</td>\n",
       "    </tr>\n",
       "    <tr>\n",
       "      <th>1</th>\n",
       "      <td>ExtraTree Regressor</td>\n",
       "      <td>99.84</td>\n",
       "    </tr>\n",
       "    <tr>\n",
       "      <th>2</th>\n",
       "      <td>Decision Tree Regressor</td>\n",
       "      <td>97.99</td>\n",
       "    </tr>\n",
       "    <tr>\n",
       "      <th>3</th>\n",
       "      <td>Linear Regression</td>\n",
       "      <td>23.69</td>\n",
       "    </tr>\n",
       "  </tbody>\n",
       "</table>\n",
       "</div>"
      ],
      "text/plain": [
       "                     Model  Score\n",
       "0  Random Forest Regressor  99.99\n",
       "1      ExtraTree Regressor  99.84\n",
       "2  Decision Tree Regressor  97.99\n",
       "3        Linear Regression  23.69"
      ]
     },
     "execution_count": 45,
     "metadata": {},
     "output_type": "execute_result"
    }
   ],
   "source": [
    "results = pd.DataFrame({\n",
    "    'Model': [ 'Linear Regression', \n",
    "              'Random Forest Regressor', \n",
    "              'ExtraTree Regressor',\n",
    "              'Decision Tree Regressor' \n",
    "              ],\n",
    "    'Score': [ score_lr,\n",
    "              score_rf, \n",
    "              score_etr,\n",
    "              score_dtr]\n",
    "           })\n",
    "result_df = results.sort_values(by='Score', ascending=False)\n",
    "result_df = result_df.reset_index(drop=True)\n",
    "result_df.head()"
   ]
  },
  {
   "cell_type": "code",
   "execution_count": 46,
   "id": "f3c2c94d",
   "metadata": {},
   "outputs": [
    {
     "data": {
      "image/png": "[encoded data removed]",
      "text/plain": [
       "<Figure size 1200x800 with 1 Axes>"
      ]
     },
     "metadata": {},
     "output_type": "display_data"
    }
   ],
   "source": [
    "plt.subplots(figsize=(12,8))\n",
    "ax=sns.barplot(x='Model',y=\"Score\",data=result_df)\n",
    "labels = (result_df[\"Score\"])\n",
    "# add result numbers on barchart\n",
    "for i, v in enumerate(labels):\n",
    "    ax.text(i, v+1, str(v), horizontalalignment = 'center', size = 15, color = 'black')"
   ]
  },
  {
   "cell_type": "code",
   "execution_count": null,
   "id": "b15ce7b1",
   "metadata": {},
   "outputs": [],
   "source": []
  },
  {
   "cell_type": "code",
   "execution_count": null,
   "id": "effe152f",
   "metadata": {},
   "outputs": [],
   "source": []
  },
  {
   "cell_type": "code",
   "execution_count": null,
   "id": "d6949ad1",
   "metadata": {},
   "outputs": [],
   "source": []
  },
  {
   "cell_type": "code",
   "execution_count": null,
   "id": "a93692a9",
   "metadata": {},
   "outputs": [],
   "source": []
  },
  {
   "cell_type": "code",
   "execution_count": null,
   "id": "2b47448b",
   "metadata": {},
   "outputs": [],
   "source": []
  },
  {
   "cell_type": "code",
   "execution_count": null,
   "id": "61ed195b",
   "metadata": {},
   "outputs": [],
   "source": []
  },
  {
   "cell_type": "code",
   "execution_count": null,
   "id": "80635b71",
   "metadata": {},
   "outputs": [],
   "source": []
  },
  {
   "cell_type": "code",
   "execution_count": null,
   "id": "f45eb73d",
   "metadata": {},
   "outputs": [],
   "source": []
  },
  {
   "cell_type": "code",
   "execution_count": null,
   "id": "5009e9bf",
   "metadata": {},
   "outputs": [],
   "source": []
  },
  {
   "cell_type": "code",
   "execution_count": null,
   "id": "342e1bc7",
   "metadata": {},
   "outputs": [],
   "source": []
  },
  {
   "cell_type": "code",
   "execution_count": null,
   "id": "74e54091",
   "metadata": {},
   "outputs": [],
   "source": []
  },
  {
   "cell_type": "code",
   "execution_count": null,
   "id": "2ae4aa04",
   "metadata": {},
   "outputs": [],
   "source": []
  },
  {
   "cell_type": "code",
   "execution_count": null,
   "id": "3279704c",
   "metadata": {},
   "outputs": [],
   "source": []
  },
  {
   "cell_type": "code",
   "execution_count": null,
   "id": "11cfb2b2",
   "metadata": {},
   "outputs": [],
   "source": []
  },
  {
   "cell_type": "code",
   "execution_count": null,
   "id": "13c7476a",
   "metadata": {},
   "outputs": [],
   "source": []
  },
  {
   "cell_type": "code",
   "execution_count": null,
   "id": "86ce167a",
   "metadata": {},
   "outputs": [],
   "source": []
  },
  {
   "cell_type": "code",
   "execution_count": null,
   "id": "bf57ac8a",
   "metadata": {},
   "outputs": [],
   "source": []
  },
  {
   "cell_type": "code",
   "execution_count": null,
   "id": "eef43eb6",
   "metadata": {},
   "outputs": [],
   "source": []
  },
  {
   "cell_type": "code",
   "execution_count": null,
   "id": "41644aa8",
   "metadata": {},
   "outputs": [],
   "source": []
  },
  {
   "cell_type": "code",
   "execution_count": null,
   "id": "95b2a2b5",
   "metadata": {},
   "outputs": [],
   "source": []
  },
  {
   "cell_type": "code",
   "execution_count": null,
   "id": "54e6d98c",
   "metadata": {},
   "outputs": [],
   "source": []
  },
  {
   "cell_type": "code",
   "execution_count": 47,
   "id": "118fdde3",
   "metadata": {},
   "outputs": [],
   "source": [
    "zmt1=zmt1.drop(columns=['Item Name','Votes','Delivery Votes'])"
   ]
  },
  {
   "cell_type": "code",
   "execution_count": 48,
   "id": "6dd18759",
   "metadata": {},
   "outputs": [
    {
     "data": {
      "text/plain": [
       "array([0.17863305, 0.09287121, 0.10537229, 0.11781859, 0.12163668,\n",
       "       0.155661  , 0.09319052, 0.13481666])"
      ]
     },
     "execution_count": 48,
     "metadata": {},
     "output_type": "execute_result"
    }
   ],
   "source": [
    "\n",
    "feature_importances = model.feature_importances_\n",
    "feature_importances"
   ]
  },
  {
   "cell_type": "code",
   "execution_count": 49,
   "id": "c36047bd",
   "metadata": {},
   "outputs": [
    {
     "name": "stdout",
     "output_type": "stream",
     "text": [
      "Restaurant Name: Importance = 0.15962031\n",
      "Original Price: Importance = 0.15703587\n",
      "Place Name: Importance = 0.13676294\n",
      "Dining Votes: Importance = 0.11382234\n",
      "Cuisine: Importance = 0.10957953\n",
      "Delivery Rating: Importance = 0.0927186\n",
      "Dining Rating: Importance = 0.08605714\n",
      "City: Importance = 0.08571283\n",
      "Delivery Votes: Importance = 0.05017269\n",
      "Votes: Importance = 0.00465541\n",
      "Item Name: Importance = 0.00386233\n"
     ]
    }
   ],
   "source": [
    "\n",
    "# Sample feature importances (replace with your actual values)\n",
    "feature_importances = np.array([0.15962031, 0.08605714, 0.0927186, 0.11382234, 0.05017269, 0.10957953, 0.13676294, 0.08571283, 0.00386233, 0.00465541, 0.15703587])\n",
    "\n",
    "# Define a list of feature names in the same order as your features\n",
    "feature_names = ['Restaurant Name', 'Dining Rating', 'Delivery Rating', 'Dining Votes', 'Delivery Votes', 'Cuisine', 'Place Name', 'City', 'Item Name', 'Votes', 'Original Price']\n",
    "\n",
    "# Create a dictionary to map feature names to their importance scores\n",
    "feature_importance_dict = dict(zip(feature_names, feature_importances))\n",
    "\n",
    "# Sort the features by importance in descending order\n",
    "sorted_features = sorted(feature_importance_dict.items(), key=lambda x: x[1], reverse=True)\n",
    "\n",
    "# Print the sorted features and their importance scores\n",
    "for feature, importance in sorted_features:\n",
    "    print(f\"{feature}: Importance = {importance}\")\n"
   ]
  },
  {
   "cell_type": "code",
   "execution_count": 50,
   "id": "4b618b6c",
   "metadata": {},
   "outputs": [
    {
     "data": {
      "text/plain": [
       "array([0.17863305, 0.09287121, 0.10537229, 0.11781859, 0.12163668,\n",
       "       0.155661  , 0.09319052, 0.13481666])"
      ]
     },
     "execution_count": 50,
     "metadata": {},
     "output_type": "execute_result"
    }
   ],
   "source": [
    "\n",
    "feature_importances = model.feature_importances_\n",
    "feature_importances"
   ]
  },
  {
   "cell_type": "code",
   "execution_count": 51,
   "id": "b3adaa59",
   "metadata": {},
   "outputs": [
    {
     "data": {
      "text/plain": [
       "73963"
      ]
     },
     "execution_count": 51,
     "metadata": {},
     "output_type": "execute_result"
    }
   ],
   "source": [
    "zero_count=zmt['Delivery Votes'].value_counts().get(0, 0)\n",
    "zero_count"
   ]
  }
 ],
 "metadata": {
  "kernelspec": {
   "display_name": "Python 3 (ipykernel)",
   "language": "python",
   "name": "python3"
  },
  "language_info": {
   "codemirror_mode": {
    "name": "ipython",
    "version": 3
   },
   "file_extension": ".py",
   "mimetype": "text/x-python",
   "name": "python",
   "nbconvert_exporter": "python",
   "pygments_lexer": "ipython3",
   "version": "3.10.9"
  }
 },
 "nbformat": 4,
 "nbformat_minor": 5
}
